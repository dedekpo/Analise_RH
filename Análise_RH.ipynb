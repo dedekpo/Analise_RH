{
 "cells": [
  {
   "cell_type": "markdown",
   "metadata": {
    "colab_type": "text",
    "id": "ehgzpmEH2IMm"
   },
   "source": [
    "## **Machine Learning - Criando um projeto passo a passo**\n",
    "Por: André Elias\n",
    "\n",
    "Email: andre.elias@ufv.br \n",
    "\n",
    "\n",
    "\n",
    "Fala pessoal! \n",
    "Estou aqui para compartilhar com vocês um pouco de como foi meu processo de criar meu primeiro projeto de dados completo! \n",
    "O projeto consiste em analisar dados de um RH e produzir insights que gerem valor, e também, criar modelos de previsões utilizando Machine Learning. Nesse caso eu previ funcionários que tinham grande chance de sair da empresa e também o desempenho que o funcionário iria desempenhar, massa né? \n",
    "Então se você tem interesse em saber como funciona continue lendo, vou tentar deixar o mais simples possível para que todos possam compreender e conseguir acompanhar. \n",
    "\n",
    "dataset: https://www.kaggle.com/krismurphy01/data-lab\n"
   ]
  },
  {
   "cell_type": "markdown",
   "metadata": {
    "colab_type": "text",
    "id": "pXLuvkLucYQU"
   },
   "source": [
    "Então vamos começar!\n",
    "\n",
    "\n",
    "Sempre começamos um projeto analisando os dados que possuímos. Nesse caso, temos um .csv com dados de 15 mil funcionários. \n",
    "Nem sempre recebemos os dados 100% prontos para serem utilizados nos modelos de Machine Learning, então temos que analisar, limpar e tratar esses dados. Utilizaremos as principais ferramentas para esse fim que são: Numpy, Pandas, Seaborn e Matplotlib"
   ]
  },
  {
   "cell_type": "code",
   "execution_count": 1,
   "metadata": {
    "colab": {},
    "colab_type": "code",
    "id": "FlDwAu3n2IMo"
   },
   "outputs": [],
   "source": [
    "#Importação de pacotes\n",
    "import numpy as np\n",
    "import pandas as pd\n",
    "import seaborn as sns\n",
    "import matplotlib.pyplot as plt"
   ]
  },
  {
   "cell_type": "markdown",
   "metadata": {
    "colab_type": "text",
    "id": "ABNfnRHOcpKq"
   },
   "source": [
    "E também, vamos salvar todos esses dados em um tipo de dado chamado dataframe no qual nomeei como 'dados', olha que coisa."
   ]
  },
  {
   "cell_type": "code",
   "execution_count": 2,
   "metadata": {
    "colab": {},
    "colab_type": "code",
    "id": "nijUb-fe2IMt",
    "scrolled": true
   },
   "outputs": [],
   "source": [
    "#Leitura dos dados\n",
    "dados = pd.read_csv('HR_Engagement_Sat_Sales_UpdatedV4.0.csv') "
   ]
  },
  {
   "cell_type": "markdown",
   "metadata": {
    "colab_type": "text",
    "id": "TXE4tq1e2IMx"
   },
   "source": [
    "## Análise exploratória dos dados"
   ]
  },
  {
   "cell_type": "markdown",
   "metadata": {
    "colab_type": "text",
    "id": "oS-1wEyS2IMy"
   },
   "source": [
    "A partir desse dataframe conseguimos analisar algumas informações básicas sobre ele, podemos ver os dados iniciais dele, algumas informações adicionais como média, mediana, moda… E por fim, vamos analisar quais os tipos das variáveis e os dados faltantes delas.\n"
   ]
  },
  {
   "cell_type": "code",
   "execution_count": 3,
   "metadata": {
    "colab": {},
    "colab_type": "code",
    "id": "ggBC94EY2IMz",
    "outputId": "cca19014-e4dc-4777-fed0-be8a01fb6af4",
    "scrolled": false
   },
   "outputs": [
    {
     "data": {
      "text/html": [
       "<div>\n",
       "<style scoped>\n",
       "    .dataframe tbody tr th:only-of-type {\n",
       "        vertical-align: middle;\n",
       "    }\n",
       "\n",
       "    .dataframe tbody tr th {\n",
       "        vertical-align: top;\n",
       "    }\n",
       "\n",
       "    .dataframe thead th {\n",
       "        text-align: right;\n",
       "    }\n",
       "</style>\n",
       "<table border=\"1\" class=\"dataframe\">\n",
       "  <thead>\n",
       "    <tr style=\"text-align: right;\">\n",
       "      <th></th>\n",
       "      <th>ID</th>\n",
       "      <th>Name</th>\n",
       "      <th>Department</th>\n",
       "      <th>GEO</th>\n",
       "      <th>Role</th>\n",
       "      <th>Rising_Star</th>\n",
       "      <th>Will_Relocate</th>\n",
       "      <th>Critical</th>\n",
       "      <th>Trending Perf</th>\n",
       "      <th>Talent_Level</th>\n",
       "      <th>...</th>\n",
       "      <th>Emp_Competitive_4</th>\n",
       "      <th>Emp_Competitive_5</th>\n",
       "      <th>Emp_Collaborative_1</th>\n",
       "      <th>Emp_Collaborative_2</th>\n",
       "      <th>Emp_Collaborative_3</th>\n",
       "      <th>Emp_Collaborative_4</th>\n",
       "      <th>Emp_Collaborative_5</th>\n",
       "      <th>Sensor_StepCount</th>\n",
       "      <th>Sensor_Heartbeat(Average/Min)</th>\n",
       "      <th>Sensor_Proximity(1-highest/10-lowest)</th>\n",
       "    </tr>\n",
       "  </thead>\n",
       "  <tbody>\n",
       "    <tr>\n",
       "      <th>0</th>\n",
       "      <td>1</td>\n",
       "      <td>BRADDY</td>\n",
       "      <td>Operations</td>\n",
       "      <td>US</td>\n",
       "      <td>VP</td>\n",
       "      <td>NaN</td>\n",
       "      <td>0</td>\n",
       "      <td>1.0</td>\n",
       "      <td>3</td>\n",
       "      <td>6</td>\n",
       "      <td>...</td>\n",
       "      <td>2</td>\n",
       "      <td>2</td>\n",
       "      <td>2</td>\n",
       "      <td>2</td>\n",
       "      <td>2</td>\n",
       "      <td>1</td>\n",
       "      <td>5</td>\n",
       "      <td>1841</td>\n",
       "      <td>61</td>\n",
       "      <td>9</td>\n",
       "    </tr>\n",
       "    <tr>\n",
       "      <th>1</th>\n",
       "      <td>2</td>\n",
       "      <td>BORST</td>\n",
       "      <td>Sales</td>\n",
       "      <td>UK</td>\n",
       "      <td>Senior Director</td>\n",
       "      <td>NaN</td>\n",
       "      <td>0</td>\n",
       "      <td>NaN</td>\n",
       "      <td>3</td>\n",
       "      <td>6</td>\n",
       "      <td>...</td>\n",
       "      <td>4</td>\n",
       "      <td>1</td>\n",
       "      <td>3</td>\n",
       "      <td>2</td>\n",
       "      <td>5</td>\n",
       "      <td>1</td>\n",
       "      <td>5</td>\n",
       "      <td>1990</td>\n",
       "      <td>90</td>\n",
       "      <td>8</td>\n",
       "    </tr>\n",
       "    <tr>\n",
       "      <th>2</th>\n",
       "      <td>3</td>\n",
       "      <td>BIRDWELL</td>\n",
       "      <td>Finance</td>\n",
       "      <td>France</td>\n",
       "      <td>Senior Director</td>\n",
       "      <td>NaN</td>\n",
       "      <td>0</td>\n",
       "      <td>NaN</td>\n",
       "      <td>3</td>\n",
       "      <td>6</td>\n",
       "      <td>...</td>\n",
       "      <td>2</td>\n",
       "      <td>5</td>\n",
       "      <td>2</td>\n",
       "      <td>2</td>\n",
       "      <td>4</td>\n",
       "      <td>4</td>\n",
       "      <td>4</td>\n",
       "      <td>3193</td>\n",
       "      <td>80</td>\n",
       "      <td>8</td>\n",
       "    </tr>\n",
       "    <tr>\n",
       "      <th>3</th>\n",
       "      <td>4</td>\n",
       "      <td>BENT</td>\n",
       "      <td>Human Resources</td>\n",
       "      <td>China</td>\n",
       "      <td>Senior Director</td>\n",
       "      <td>NaN</td>\n",
       "      <td>0</td>\n",
       "      <td>NaN</td>\n",
       "      <td>3</td>\n",
       "      <td>6</td>\n",
       "      <td>...</td>\n",
       "      <td>5</td>\n",
       "      <td>1</td>\n",
       "      <td>1</td>\n",
       "      <td>2</td>\n",
       "      <td>4</td>\n",
       "      <td>4</td>\n",
       "      <td>1</td>\n",
       "      <td>3248</td>\n",
       "      <td>77</td>\n",
       "      <td>6</td>\n",
       "    </tr>\n",
       "    <tr>\n",
       "      <th>4</th>\n",
       "      <td>5</td>\n",
       "      <td>BAZAN</td>\n",
       "      <td>IT</td>\n",
       "      <td>Korea</td>\n",
       "      <td>Director</td>\n",
       "      <td>NaN</td>\n",
       "      <td>0</td>\n",
       "      <td>NaN</td>\n",
       "      <td>3</td>\n",
       "      <td>6</td>\n",
       "      <td>...</td>\n",
       "      <td>5</td>\n",
       "      <td>3</td>\n",
       "      <td>5</td>\n",
       "      <td>1</td>\n",
       "      <td>2</td>\n",
       "      <td>5</td>\n",
       "      <td>4</td>\n",
       "      <td>3149</td>\n",
       "      <td>80</td>\n",
       "      <td>10</td>\n",
       "    </tr>\n",
       "  </tbody>\n",
       "</table>\n",
       "<p>5 rows × 62 columns</p>\n",
       "</div>"
      ],
      "text/plain": [
       "   ID      Name       Department     GEO             Role  Rising_Star  \\\n",
       "0   1    BRADDY       Operations      US               VP          NaN   \n",
       "1   2     BORST            Sales      UK  Senior Director          NaN   \n",
       "2   3  BIRDWELL          Finance  France  Senior Director          NaN   \n",
       "3   4      BENT  Human Resources   China  Senior Director          NaN   \n",
       "4   5     BAZAN               IT   Korea         Director          NaN   \n",
       "\n",
       "   Will_Relocate  Critical  Trending Perf  Talent_Level  ...  \\\n",
       "0              0       1.0              3             6  ...   \n",
       "1              0       NaN              3             6  ...   \n",
       "2              0       NaN              3             6  ...   \n",
       "3              0       NaN              3             6  ...   \n",
       "4              0       NaN              3             6  ...   \n",
       "\n",
       "   Emp_Competitive_4  Emp_Competitive_5  Emp_Collaborative_1  \\\n",
       "0                  2                  2                    2   \n",
       "1                  4                  1                    3   \n",
       "2                  2                  5                    2   \n",
       "3                  5                  1                    1   \n",
       "4                  5                  3                    5   \n",
       "\n",
       "   Emp_Collaborative_2  Emp_Collaborative_3  Emp_Collaborative_4  \\\n",
       "0                    2                    2                    1   \n",
       "1                    2                    5                    1   \n",
       "2                    2                    4                    4   \n",
       "3                    2                    4                    4   \n",
       "4                    1                    2                    5   \n",
       "\n",
       "   Emp_Collaborative_5  Sensor_StepCount  Sensor_Heartbeat(Average/Min)  \\\n",
       "0                    5              1841                             61   \n",
       "1                    5              1990                             90   \n",
       "2                    4              3193                             80   \n",
       "3                    1              3248                             77   \n",
       "4                    4              3149                             80   \n",
       "\n",
       "   Sensor_Proximity(1-highest/10-lowest)  \n",
       "0                                      9  \n",
       "1                                      8  \n",
       "2                                      8  \n",
       "3                                      6  \n",
       "4                                     10  \n",
       "\n",
       "[5 rows x 62 columns]"
      ]
     },
     "execution_count": 3,
     "metadata": {},
     "output_type": "execute_result"
    }
   ],
   "source": [
    "#Visualizar início do df\n",
    "dados.head()"
   ]
  },
  {
   "cell_type": "markdown",
   "metadata": {
    "colab_type": "text",
    "id": "R7e8P6L32IM3"
   },
   "source": [
    "O primeiro pensamento que me veio deste dataset é a alta quantidade de colunas. 62 é um valor muito alto para se trabalhar, e dificulta a visualização dos dados. Então esse é um objetivo que preciso tratar, procurar colunas descartáveis diminuindo o tamanho do dataframe o máximo possível."
   ]
  },
  {
   "cell_type": "code",
   "execution_count": 4,
   "metadata": {
    "colab": {},
    "colab_type": "code",
    "id": "noLNdSSn2IM4",
    "outputId": "94a3fcfb-b436-469e-c6b9-bf89783f811e"
   },
   "outputs": [
    {
     "data": {
      "text/html": [
       "<div>\n",
       "<style scoped>\n",
       "    .dataframe tbody tr th:only-of-type {\n",
       "        vertical-align: middle;\n",
       "    }\n",
       "\n",
       "    .dataframe tbody tr th {\n",
       "        vertical-align: top;\n",
       "    }\n",
       "\n",
       "    .dataframe thead th {\n",
       "        text-align: right;\n",
       "    }\n",
       "</style>\n",
       "<table border=\"1\" class=\"dataframe\">\n",
       "  <thead>\n",
       "    <tr style=\"text-align: right;\">\n",
       "      <th></th>\n",
       "      <th>ID</th>\n",
       "      <th>Rising_Star</th>\n",
       "      <th>Will_Relocate</th>\n",
       "      <th>Critical</th>\n",
       "      <th>Trending Perf</th>\n",
       "      <th>Talent_Level</th>\n",
       "      <th>Validated_Talent_Level</th>\n",
       "      <th>Percent_Remote</th>\n",
       "      <th>EMP_Sat_OnPrem_1</th>\n",
       "      <th>EMP_Sat_OnPrem_2</th>\n",
       "      <th>...</th>\n",
       "      <th>Emp_Competitive_4</th>\n",
       "      <th>Emp_Competitive_5</th>\n",
       "      <th>Emp_Collaborative_1</th>\n",
       "      <th>Emp_Collaborative_2</th>\n",
       "      <th>Emp_Collaborative_3</th>\n",
       "      <th>Emp_Collaborative_4</th>\n",
       "      <th>Emp_Collaborative_5</th>\n",
       "      <th>Sensor_StepCount</th>\n",
       "      <th>Sensor_Heartbeat(Average/Min)</th>\n",
       "      <th>Sensor_Proximity(1-highest/10-lowest)</th>\n",
       "    </tr>\n",
       "  </thead>\n",
       "  <tbody>\n",
       "    <tr>\n",
       "      <th>count</th>\n",
       "      <td>14999.000000</td>\n",
       "      <td>21.0</td>\n",
       "      <td>14999.000000</td>\n",
       "      <td>480.0</td>\n",
       "      <td>14999.0</td>\n",
       "      <td>14999.0</td>\n",
       "      <td>14999.0</td>\n",
       "      <td>14999.000000</td>\n",
       "      <td>14871.0</td>\n",
       "      <td>14871.000000</td>\n",
       "      <td>...</td>\n",
       "      <td>14999.000000</td>\n",
       "      <td>14999.000000</td>\n",
       "      <td>14999.000000</td>\n",
       "      <td>14999.000000</td>\n",
       "      <td>14999.000000</td>\n",
       "      <td>14999.000000</td>\n",
       "      <td>14999.000000</td>\n",
       "      <td>14999.000000</td>\n",
       "      <td>14999.000000</td>\n",
       "      <td>14999.000000</td>\n",
       "    </tr>\n",
       "    <tr>\n",
       "      <th>mean</th>\n",
       "      <td>7500.000000</td>\n",
       "      <td>1.0</td>\n",
       "      <td>0.499833</td>\n",
       "      <td>1.0</td>\n",
       "      <td>3.0</td>\n",
       "      <td>6.0</td>\n",
       "      <td>6.0</td>\n",
       "      <td>0.617321</td>\n",
       "      <td>3.0</td>\n",
       "      <td>2.731962</td>\n",
       "      <td>...</td>\n",
       "      <td>2.999067</td>\n",
       "      <td>2.987066</td>\n",
       "      <td>2.979532</td>\n",
       "      <td>1.676245</td>\n",
       "      <td>2.998533</td>\n",
       "      <td>3.005200</td>\n",
       "      <td>3.016934</td>\n",
       "      <td>3406.693246</td>\n",
       "      <td>77.967198</td>\n",
       "      <td>6.399360</td>\n",
       "    </tr>\n",
       "    <tr>\n",
       "      <th>std</th>\n",
       "      <td>4329.982679</td>\n",
       "      <td>0.0</td>\n",
       "      <td>0.500017</td>\n",
       "      <td>0.0</td>\n",
       "      <td>0.0</td>\n",
       "      <td>0.0</td>\n",
       "      <td>0.0</td>\n",
       "      <td>0.193841</td>\n",
       "      <td>0.0</td>\n",
       "      <td>0.681369</td>\n",
       "      <td>...</td>\n",
       "      <td>1.406128</td>\n",
       "      <td>1.412314</td>\n",
       "      <td>1.412579</td>\n",
       "      <td>0.865230</td>\n",
       "      <td>1.410058</td>\n",
       "      <td>1.410191</td>\n",
       "      <td>1.412225</td>\n",
       "      <td>1755.742272</td>\n",
       "      <td>7.252848</td>\n",
       "      <td>2.588091</td>\n",
       "    </tr>\n",
       "    <tr>\n",
       "      <th>min</th>\n",
       "      <td>1.000000</td>\n",
       "      <td>1.0</td>\n",
       "      <td>0.000000</td>\n",
       "      <td>1.0</td>\n",
       "      <td>3.0</td>\n",
       "      <td>6.0</td>\n",
       "      <td>6.0</td>\n",
       "      <td>0.400000</td>\n",
       "      <td>3.0</td>\n",
       "      <td>1.000000</td>\n",
       "      <td>...</td>\n",
       "      <td>1.000000</td>\n",
       "      <td>1.000000</td>\n",
       "      <td>1.000000</td>\n",
       "      <td>1.000000</td>\n",
       "      <td>1.000000</td>\n",
       "      <td>1.000000</td>\n",
       "      <td>1.000000</td>\n",
       "      <td>1000.000000</td>\n",
       "      <td>60.000000</td>\n",
       "      <td>1.000000</td>\n",
       "    </tr>\n",
       "    <tr>\n",
       "      <th>25%</th>\n",
       "      <td>3750.500000</td>\n",
       "      <td>1.0</td>\n",
       "      <td>0.000000</td>\n",
       "      <td>1.0</td>\n",
       "      <td>3.0</td>\n",
       "      <td>6.0</td>\n",
       "      <td>6.0</td>\n",
       "      <td>0.400000</td>\n",
       "      <td>3.0</td>\n",
       "      <td>3.000000</td>\n",
       "      <td>...</td>\n",
       "      <td>2.000000</td>\n",
       "      <td>2.000000</td>\n",
       "      <td>2.000000</td>\n",
       "      <td>1.000000</td>\n",
       "      <td>2.000000</td>\n",
       "      <td>2.000000</td>\n",
       "      <td>2.000000</td>\n",
       "      <td>1704.500000</td>\n",
       "      <td>75.000000</td>\n",
       "      <td>5.000000</td>\n",
       "    </tr>\n",
       "    <tr>\n",
       "      <th>50%</th>\n",
       "      <td>7500.000000</td>\n",
       "      <td>1.0</td>\n",
       "      <td>0.000000</td>\n",
       "      <td>1.0</td>\n",
       "      <td>3.0</td>\n",
       "      <td>6.0</td>\n",
       "      <td>6.0</td>\n",
       "      <td>0.800000</td>\n",
       "      <td>3.0</td>\n",
       "      <td>3.000000</td>\n",
       "      <td>...</td>\n",
       "      <td>3.000000</td>\n",
       "      <td>3.000000</td>\n",
       "      <td>3.000000</td>\n",
       "      <td>2.000000</td>\n",
       "      <td>3.000000</td>\n",
       "      <td>3.000000</td>\n",
       "      <td>3.000000</td>\n",
       "      <td>3376.000000</td>\n",
       "      <td>78.000000</td>\n",
       "      <td>7.000000</td>\n",
       "    </tr>\n",
       "    <tr>\n",
       "      <th>75%</th>\n",
       "      <td>11249.500000</td>\n",
       "      <td>1.0</td>\n",
       "      <td>1.000000</td>\n",
       "      <td>1.0</td>\n",
       "      <td>3.0</td>\n",
       "      <td>6.0</td>\n",
       "      <td>6.0</td>\n",
       "      <td>0.800000</td>\n",
       "      <td>3.0</td>\n",
       "      <td>3.000000</td>\n",
       "      <td>...</td>\n",
       "      <td>4.000000</td>\n",
       "      <td>4.000000</td>\n",
       "      <td>4.000000</td>\n",
       "      <td>2.000000</td>\n",
       "      <td>4.000000</td>\n",
       "      <td>4.000000</td>\n",
       "      <td>4.000000</td>\n",
       "      <td>4893.000000</td>\n",
       "      <td>85.000000</td>\n",
       "      <td>8.000000</td>\n",
       "    </tr>\n",
       "    <tr>\n",
       "      <th>max</th>\n",
       "      <td>14999.000000</td>\n",
       "      <td>1.0</td>\n",
       "      <td>1.000000</td>\n",
       "      <td>1.0</td>\n",
       "      <td>3.0</td>\n",
       "      <td>6.0</td>\n",
       "      <td>6.0</td>\n",
       "      <td>1.000000</td>\n",
       "      <td>3.0</td>\n",
       "      <td>3.000000</td>\n",
       "      <td>...</td>\n",
       "      <td>5.000000</td>\n",
       "      <td>5.000000</td>\n",
       "      <td>5.000000</td>\n",
       "      <td>5.000000</td>\n",
       "      <td>5.000000</td>\n",
       "      <td>5.000000</td>\n",
       "      <td>5.000000</td>\n",
       "      <td>8500.000000</td>\n",
       "      <td>90.000000</td>\n",
       "      <td>10.000000</td>\n",
       "    </tr>\n",
       "  </tbody>\n",
       "</table>\n",
       "<p>8 rows × 55 columns</p>\n",
       "</div>"
      ],
      "text/plain": [
       "                 ID  Rising_Star  Will_Relocate  Critical  Trending Perf  \\\n",
       "count  14999.000000         21.0   14999.000000     480.0        14999.0   \n",
       "mean    7500.000000          1.0       0.499833       1.0            3.0   \n",
       "std     4329.982679          0.0       0.500017       0.0            0.0   \n",
       "min        1.000000          1.0       0.000000       1.0            3.0   \n",
       "25%     3750.500000          1.0       0.000000       1.0            3.0   \n",
       "50%     7500.000000          1.0       0.000000       1.0            3.0   \n",
       "75%    11249.500000          1.0       1.000000       1.0            3.0   \n",
       "max    14999.000000          1.0       1.000000       1.0            3.0   \n",
       "\n",
       "       Talent_Level  Validated_Talent_Level  Percent_Remote  EMP_Sat_OnPrem_1  \\\n",
       "count       14999.0                 14999.0    14999.000000           14871.0   \n",
       "mean            6.0                     6.0        0.617321               3.0   \n",
       "std             0.0                     0.0        0.193841               0.0   \n",
       "min             6.0                     6.0        0.400000               3.0   \n",
       "25%             6.0                     6.0        0.400000               3.0   \n",
       "50%             6.0                     6.0        0.800000               3.0   \n",
       "75%             6.0                     6.0        0.800000               3.0   \n",
       "max             6.0                     6.0        1.000000               3.0   \n",
       "\n",
       "       EMP_Sat_OnPrem_2  ...  Emp_Competitive_4  Emp_Competitive_5  \\\n",
       "count      14871.000000  ...       14999.000000       14999.000000   \n",
       "mean           2.731962  ...           2.999067           2.987066   \n",
       "std            0.681369  ...           1.406128           1.412314   \n",
       "min            1.000000  ...           1.000000           1.000000   \n",
       "25%            3.000000  ...           2.000000           2.000000   \n",
       "50%            3.000000  ...           3.000000           3.000000   \n",
       "75%            3.000000  ...           4.000000           4.000000   \n",
       "max            3.000000  ...           5.000000           5.000000   \n",
       "\n",
       "       Emp_Collaborative_1  Emp_Collaborative_2  Emp_Collaborative_3  \\\n",
       "count         14999.000000         14999.000000         14999.000000   \n",
       "mean              2.979532             1.676245             2.998533   \n",
       "std               1.412579             0.865230             1.410058   \n",
       "min               1.000000             1.000000             1.000000   \n",
       "25%               2.000000             1.000000             2.000000   \n",
       "50%               3.000000             2.000000             3.000000   \n",
       "75%               4.000000             2.000000             4.000000   \n",
       "max               5.000000             5.000000             5.000000   \n",
       "\n",
       "       Emp_Collaborative_4  Emp_Collaborative_5  Sensor_StepCount  \\\n",
       "count         14999.000000         14999.000000      14999.000000   \n",
       "mean              3.005200             3.016934       3406.693246   \n",
       "std               1.410191             1.412225       1755.742272   \n",
       "min               1.000000             1.000000       1000.000000   \n",
       "25%               2.000000             2.000000       1704.500000   \n",
       "50%               3.000000             3.000000       3376.000000   \n",
       "75%               4.000000             4.000000       4893.000000   \n",
       "max               5.000000             5.000000       8500.000000   \n",
       "\n",
       "       Sensor_Heartbeat(Average/Min)  Sensor_Proximity(1-highest/10-lowest)  \n",
       "count                   14999.000000                           14999.000000  \n",
       "mean                       77.967198                               6.399360  \n",
       "std                         7.252848                               2.588091  \n",
       "min                        60.000000                               1.000000  \n",
       "25%                        75.000000                               5.000000  \n",
       "50%                        78.000000                               7.000000  \n",
       "75%                        85.000000                               8.000000  \n",
       "max                        90.000000                              10.000000  \n",
       "\n",
       "[8 rows x 55 columns]"
      ]
     },
     "execution_count": 4,
     "metadata": {},
     "output_type": "execute_result"
    }
   ],
   "source": [
    "#Informações adicionais do df\n",
    "dados.describe()"
   ]
  },
  {
   "cell_type": "markdown",
   "metadata": {
    "colab_type": "text",
    "id": "X_auWxKM2IM8"
   },
   "source": [
    "Aqui podemos analisar alguns dados sobre o dataset como média, mediana, quantidade, etc..."
   ]
  },
  {
   "cell_type": "code",
   "execution_count": 5,
   "metadata": {
    "colab": {},
    "colab_type": "code",
    "id": "ygK8gGm42IM9",
    "outputId": "5e730fb4-3ebf-4145-b09e-dc91ad2f6696"
   },
   "outputs": [
    {
     "name": "stdout",
     "output_type": "stream",
     "text": [
      "<class 'pandas.core.frame.DataFrame'>\n",
      "RangeIndex: 14999 entries, 0 to 14998\n",
      "Data columns (total 62 columns):\n",
      "ID                                       14999 non-null int64\n",
      "Name                                     14997 non-null object\n",
      "Department                               14999 non-null object\n",
      "GEO                                      14999 non-null object\n",
      "Role                                     14999 non-null object\n",
      "Rising_Star                              21 non-null float64\n",
      "Will_Relocate                            14999 non-null int64\n",
      "Critical                                 480 non-null float64\n",
      "Trending Perf                            14999 non-null int64\n",
      "Talent_Level                             14999 non-null int64\n",
      "Validated_Talent_Level                   14999 non-null int64\n",
      "Percent_Remote                           14999 non-null float64\n",
      "EMP_Sat_OnPrem_1                         14871 non-null float64\n",
      "EMP_Sat_OnPrem_2                         14871 non-null float64\n",
      "EMP_Sat_OnPrem_3                         14871 non-null float64\n",
      "EMP_Sat_OnPrem_4                         14871 non-null float64\n",
      "EMP_Sat_OnPrem_5                         14871 non-null float64\n",
      "EMP_Sat_Remote_1                         14999 non-null int64\n",
      "EMP_Sat_Remote_2                         14999 non-null int64\n",
      "EMP_Sat_Remote_3                         14999 non-null int64\n",
      "EMP_Sat_Remote_4                         14999 non-null int64\n",
      "EMP_Sat_Remote_5                         14999 non-null int64\n",
      "EMP_Engagement_1                         14999 non-null int64\n",
      "EMP_Engagement_2                         14999 non-null int64\n",
      "EMP_Engagement_3                         14999 non-null int64\n",
      "EMP_Engagement_4                         14999 non-null int64\n",
      "EMP_Engagement_5                         14999 non-null int64\n",
      "last_evaluation                          14999 non-null float64\n",
      "number_project                           14999 non-null int64\n",
      "average_montly_hours                     14999 non-null int64\n",
      "time_spend_company                       14999 non-null int64\n",
      "Work_accident                            14999 non-null int64\n",
      "left_Company                             14999 non-null int64\n",
      "CSR Factor                               1713 non-null float64\n",
      "promotion_last_5years                    14999 non-null int64\n",
      "sales                                    14999 non-null object\n",
      "salary                                   14999 non-null object\n",
      "Gender                                   14999 non-null object\n",
      "LinkedIn_Hits                            14999 non-null int64\n",
      "Emp_Work_Status2                         14999 non-null int64\n",
      "Emp_Work_Status_3                        14999 non-null int64\n",
      "Emp_Work_Status_4                        14999 non-null int64\n",
      "Emp_Work_Status_5                        14999 non-null int64\n",
      "Emp_Identity                             14999 non-null int64\n",
      "Emp_Role                                 14999 non-null int64\n",
      "Emp_Position                             14999 non-null int64\n",
      "Emp_Title                                14999 non-null int64\n",
      "Women_Leave                              7596 non-null float64\n",
      "Men_Leave                                4865 non-null float64\n",
      "Emp_Competitive_1                        14999 non-null int64\n",
      "Emp_Competitive_2                        14999 non-null int64\n",
      "Emp_Competitive_3                        14999 non-null int64\n",
      "Emp_Competitive_4                        14999 non-null int64\n",
      "Emp_Competitive_5                        14999 non-null int64\n",
      "Emp_Collaborative_1                      14999 non-null int64\n",
      "Emp_Collaborative_2                      14999 non-null int64\n",
      "Emp_Collaborative_3                      14999 non-null int64\n",
      "Emp_Collaborative_4                      14999 non-null int64\n",
      "Emp_Collaborative_5                      14999 non-null int64\n",
      "Sensor_StepCount                         14999 non-null int64\n",
      "Sensor_Heartbeat(Average/Min)            14999 non-null int64\n",
      "Sensor_Proximity(1-highest/10-lowest)    14999 non-null int64\n",
      "dtypes: float64(12), int64(43), object(7)\n",
      "memory usage: 7.1+ MB\n"
     ]
    }
   ],
   "source": [
    "dados.info()"
   ]
  },
  {
   "cell_type": "markdown",
   "metadata": {
    "colab_type": "text",
    "id": "WyjlWE_F2INB"
   },
   "source": [
    "Agora que verificamos as informações dos dados percebemos que precisamos tratar alguns casos.\n",
    "Primeiramente podemos descartar algumas colunas que não acrescentam nada em nossos insights, verificando as informações que o Kaggle fornece sobre as colunas vemos que as colunas `CSR Factor` e `sales` precisam ser ignoradas pois não representam informações revelantes.\n",
    "Outras colunas que não irão ajudar são a `ID` e `Name` pois essas informações são pessoais e não influenciam no conjunto da obra.\n",
    "E por fim, as colunas `Trending Perf`, `Talent_Level` e `Validated_Talent_Level` apresentaram valores únicos em todas as linhas, sendo assim, não apresentando nenhuma informação relevante. Então podemos excluir essas colunas."
   ]
  },
  {
   "cell_type": "code",
   "execution_count": 6,
   "metadata": {
    "colab": {},
    "colab_type": "code",
    "id": "OufjtAt12INC"
   },
   "outputs": [],
   "source": [
    "#Retira dados irrelevantes\n",
    "dados = dados.drop(['ID', 'Name', 'Trending Perf', 'Talent_Level', 'Validated_Talent_Level', 'CSR Factor', 'sales', 'Rising_Star', 'Critical'],axis =1)"
   ]
  },
  {
   "cell_type": "markdown",
   "metadata": {
    "colab_type": "text",
    "id": "ApzqGyQa2ING"
   },
   "source": [
    "Certo, colunas retiradas.\n",
    "Outra coisa que percebi nas informações apresentadas no dados.info() foi que a pesquisa `EMP_Sat_OnPrem` apresentou alguns valores nulos, ou seja, alguns funcionários não responderam a pesquisa.\n",
    "Podemos tratar esse caso de algumas formas, podemos preenche-los com a média de todos os valores, a mediana ou colocar qualquer valor. Eu não considero essas opções boas pois podem criar um viés na hora de analisar os dados dessa pesquisa.\n",
    "Então considerei que a melhor forma de tratar esse problema é simplesmente retirar os funcionários que não responderam a pesquisa, como são poucos não vão influenciar muito."
   ]
  },
  {
   "cell_type": "code",
   "execution_count": 7,
   "metadata": {
    "colab": {},
    "colab_type": "code",
    "id": "TMmaAvUi2INH"
   },
   "outputs": [],
   "source": [
    "#Retira os funcionários que não responderam a pesquisa 'EMP_Sat_OnPrem'\n",
    "dados = dados[dados['EMP_Sat_OnPrem_1'].notna()]"
   ]
  },
  {
   "cell_type": "code",
   "execution_count": 8,
   "metadata": {
    "colab": {},
    "colab_type": "code",
    "id": "uPpgiq_n2INM",
    "outputId": "001b3d53-e735-4dcf-dfb0-c621ac94cd57"
   },
   "outputs": [
    {
     "name": "stdout",
     "output_type": "stream",
     "text": [
      "<class 'pandas.core.frame.DataFrame'>\n",
      "Int64Index: 14871 entries, 0 to 14870\n",
      "Data columns (total 53 columns):\n",
      "Department                               14871 non-null object\n",
      "GEO                                      14871 non-null object\n",
      "Role                                     14871 non-null object\n",
      "Will_Relocate                            14871 non-null int64\n",
      "Percent_Remote                           14871 non-null float64\n",
      "EMP_Sat_OnPrem_1                         14871 non-null float64\n",
      "EMP_Sat_OnPrem_2                         14871 non-null float64\n",
      "EMP_Sat_OnPrem_3                         14871 non-null float64\n",
      "EMP_Sat_OnPrem_4                         14871 non-null float64\n",
      "EMP_Sat_OnPrem_5                         14871 non-null float64\n",
      "EMP_Sat_Remote_1                         14871 non-null int64\n",
      "EMP_Sat_Remote_2                         14871 non-null int64\n",
      "EMP_Sat_Remote_3                         14871 non-null int64\n",
      "EMP_Sat_Remote_4                         14871 non-null int64\n",
      "EMP_Sat_Remote_5                         14871 non-null int64\n",
      "EMP_Engagement_1                         14871 non-null int64\n",
      "EMP_Engagement_2                         14871 non-null int64\n",
      "EMP_Engagement_3                         14871 non-null int64\n",
      "EMP_Engagement_4                         14871 non-null int64\n",
      "EMP_Engagement_5                         14871 non-null int64\n",
      "last_evaluation                          14871 non-null float64\n",
      "number_project                           14871 non-null int64\n",
      "average_montly_hours                     14871 non-null int64\n",
      "time_spend_company                       14871 non-null int64\n",
      "Work_accident                            14871 non-null int64\n",
      "left_Company                             14871 non-null int64\n",
      "promotion_last_5years                    14871 non-null int64\n",
      "salary                                   14871 non-null object\n",
      "Gender                                   14871 non-null object\n",
      "LinkedIn_Hits                            14871 non-null int64\n",
      "Emp_Work_Status2                         14871 non-null int64\n",
      "Emp_Work_Status_3                        14871 non-null int64\n",
      "Emp_Work_Status_4                        14871 non-null int64\n",
      "Emp_Work_Status_5                        14871 non-null int64\n",
      "Emp_Identity                             14871 non-null int64\n",
      "Emp_Role                                 14871 non-null int64\n",
      "Emp_Position                             14871 non-null int64\n",
      "Emp_Title                                14871 non-null int64\n",
      "Women_Leave                              7538 non-null float64\n",
      "Men_Leave                                4817 non-null float64\n",
      "Emp_Competitive_1                        14871 non-null int64\n",
      "Emp_Competitive_2                        14871 non-null int64\n",
      "Emp_Competitive_3                        14871 non-null int64\n",
      "Emp_Competitive_4                        14871 non-null int64\n",
      "Emp_Competitive_5                        14871 non-null int64\n",
      "Emp_Collaborative_1                      14871 non-null int64\n",
      "Emp_Collaborative_2                      14871 non-null int64\n",
      "Emp_Collaborative_3                      14871 non-null int64\n",
      "Emp_Collaborative_4                      14871 non-null int64\n",
      "Emp_Collaborative_5                      14871 non-null int64\n",
      "Sensor_StepCount                         14871 non-null int64\n",
      "Sensor_Heartbeat(Average/Min)            14871 non-null int64\n",
      "Sensor_Proximity(1-highest/10-lowest)    14871 non-null int64\n",
      "dtypes: float64(9), int64(39), object(5)\n",
      "memory usage: 6.1+ MB\n"
     ]
    }
   ],
   "source": [
    "#Verifica como ficou o dataframe\n",
    "dados.info()"
   ]
  },
  {
   "cell_type": "markdown",
   "metadata": {
    "colab_type": "text",
    "id": "ydIlijrK2INP"
   },
   "source": [
    "Ok, caso tratado. Mas agora existem outros casos com valores nulos, `Women_Leave` e `Men_Leave`. Esses me causaram uma confusão, pois no site do Kaggle ele descreve os dois como `Homens e mulheres que saíram da empresa`, oque me leva a questionar a existência da coluna `left_Company` que a descrição é a mesma coisa mas sem especificar gêneros.\n",
    "E essas duas colunas apresentam valores `0`, `1` e `na`. Então não sabemos o que esses `na`s representam, irei ignorar esse valores por enquanto."
   ]
  },
  {
   "cell_type": "code",
   "execution_count": 9,
   "metadata": {
    "colab": {},
    "colab_type": "code",
    "id": "RrlY85Yo2INQ",
    "outputId": "8656e578-284e-4dcf-d703-c35d129cde5d",
    "scrolled": true
   },
   "outputs": [
    {
     "data": {
      "text/plain": [
       "445      NaN\n",
       "446      NaN\n",
       "447      NaN\n",
       "448      NaN\n",
       "449      0.0\n",
       "450      NaN\n",
       "451      0.0\n",
       "452      NaN\n",
       "453      1.0\n",
       "454      0.0\n",
       "455      0.0\n",
       "456      NaN\n",
       "457      0.0\n",
       "458      0.0\n",
       "459      0.0\n",
       "460      NaN\n",
       "461      0.0\n",
       "462      NaN\n",
       "463      0.0\n",
       "464      NaN\n",
       "465      0.0\n",
       "466      0.0\n",
       "467      NaN\n",
       "468      NaN\n",
       "469      0.0\n",
       "470      NaN\n",
       "471      NaN\n",
       "472      0.0\n",
       "473      NaN\n",
       "474      0.0\n",
       "        ... \n",
       "14780    NaN\n",
       "14781    1.0\n",
       "14782    NaN\n",
       "14783    1.0\n",
       "14784    0.0\n",
       "14785    1.0\n",
       "14786    1.0\n",
       "14787    1.0\n",
       "14788    NaN\n",
       "14789    0.0\n",
       "14790    1.0\n",
       "14791    NaN\n",
       "14792    1.0\n",
       "14793    NaN\n",
       "14794    1.0\n",
       "14795    1.0\n",
       "14796    0.0\n",
       "14797    1.0\n",
       "14798    1.0\n",
       "14799    NaN\n",
       "14800    1.0\n",
       "14801    NaN\n",
       "14802    1.0\n",
       "14803    1.0\n",
       "14804    NaN\n",
       "14805    1.0\n",
       "14806    NaN\n",
       "14807    1.0\n",
       "14808    NaN\n",
       "14809    NaN\n",
       "Name: Women_Leave, Length: 3498, dtype: float64"
      ]
     },
     "execution_count": 9,
     "metadata": {},
     "output_type": "execute_result"
    }
   ],
   "source": [
    "#Verificando as inconsistências nos dados\n",
    "dados['Women_Leave'][dados['left_Company'] == 1]\n",
    "#Alguns valores em 'Women_Leave' marcam 1 enquanto em 'left_Company' marca 0"
   ]
  },
  {
   "cell_type": "markdown",
   "metadata": {
    "colab_type": "text",
    "id": "Yczp9IAg2INU"
   },
   "source": [
    "Analisando esses dados mais de perto consigo provar suas inconsistências. Pois algumas colunas em `Women_Leave` e `Men_Leave` marcadas como `1` estão marcadas em `left_Company` como `0`. Como pode o dataset falar que a mulher ou homem saiu da empresa mas ao mesmo tempo a coluna que regista isso está dizendo o contrário? Além disso, as colunas `Women_Leave` e `Men_Leave` apresentam muitos valores nulos, então não sabemos se a pessoa saiu ou não, de fato.\n",
    "Então irei considerar dois cenários, um onde os dados de `Women_Leave` e `Men_Leave` estão corretos e outro onde `left_Company` está correto, assim será usado os dois de forma separada para as análises."
   ]
  },
  {
   "cell_type": "markdown",
   "metadata": {
    "colab_type": "text",
    "id": "wmBzANIs2INV"
   },
   "source": [
    "Já podemos começar a analisar os dados e gerar alguns insights.\n",
    "Vamos analisar como os principais dados estão distribuídos."
   ]
  },
  {
   "cell_type": "code",
   "execution_count": 10,
   "metadata": {
    "colab": {},
    "colab_type": "code",
    "id": "gltVPrGP2INW",
    "outputId": "9a33b9d1-22c2-4b2d-fbb7-e9c67f481b78"
   },
   "outputs": [
    {
     "data": {
      "image/png": "[encoded data removed]",
      "text/plain": [
       "<Figure size 432x288 with 1 Axes>"
      ]
     },
     "metadata": {
      "needs_background": "light"
     },
     "output_type": "display_data"
    },
    {
     "data": {
      "image/png": "[encoded data removed]",
      "text/plain": [
       "<Figure size 432x288 with 1 Axes>"
      ]
     },
     "metadata": {
      "needs_background": "light"
     },
     "output_type": "display_data"
    },
    {
     "data": {
      "image/png": "[encoded data removed]",
      "text/plain": [
       "<Figure size 432x288 with 1 Axes>"
      ]
     },
     "metadata": {
      "needs_background": "light"
     },
     "output_type": "display_data"
    },
    {
     "data": {
      "image/png": "[encoded data removed]",
      "text/plain": [
       "<Figure size 432x288 with 1 Axes>"
      ]
     },
     "metadata": {
      "needs_background": "light"
     },
     "output_type": "display_data"
    },
    {
     "data": {
      "image/png": "[encoded data removed]",
      "text/plain": [
       "<Figure size 432x288 with 1 Axes>"
      ]
     },
     "metadata": {
      "needs_background": "light"
     },
     "output_type": "display_data"
    },
    {
     "data": {
      "image/png": "[encoded data removed]",
      "text/plain": [
       "<Figure size 432x288 with 1 Axes>"
      ]
     },
     "metadata": {
      "needs_background": "light"
     },
     "output_type": "display_data"
    },
    {
     "data": {
      "image/png": "[encoded data removed]",
      "text/plain": [
       "<Figure size 432x288 with 1 Axes>"
      ]
     },
     "metadata": {
      "needs_background": "light"
     },
     "output_type": "display_data"
    }
   ],
   "source": [
    "colunas1 = ['Department', 'GEO', 'Role', 'time_spend_company']\n",
    "colunas2 = ['average_montly_hours', 'Sensor_Heartbeat(Average/Min)', 'LinkedIn_Hits']\n",
    "for x in colunas1:\n",
    "    plt.title(x)\n",
    "    dados[x].value_counts().sort_index().plot.bar()\n",
    "    plt.show()\n",
    "for x in colunas2:\n",
    "    plt.title(x)\n",
    "    dados[x].hist()\n",
    "    plt.show()"
   ]
  },
  {
   "cell_type": "markdown",
   "metadata": {
    "colab_type": "text",
    "id": "m17CfMmP2INb"
   },
   "source": [
    "Agora vamos analisar o desempenho de cada departamento separado por localização baseado na avaliação de seus funcionários.\n",
    "Podemos utilizar esses dados para bonificação e cobrança de determinados setores."
   ]
  },
  {
   "cell_type": "code",
   "execution_count": 11,
   "metadata": {
    "colab": {},
    "colab_type": "code",
    "id": "NBIpuxlt2INc",
    "outputId": "a4b9389a-9a42-4a65-ff42-1648425fb3eb"
   },
   "outputs": [
    {
     "data": {
      "text/html": [
       "<div>\n",
       "<style scoped>\n",
       "    .dataframe tbody tr th:only-of-type {\n",
       "        vertical-align: middle;\n",
       "    }\n",
       "\n",
       "    .dataframe tbody tr th {\n",
       "        vertical-align: top;\n",
       "    }\n",
       "\n",
       "    .dataframe thead th {\n",
       "        text-align: right;\n",
       "    }\n",
       "</style>\n",
       "<table border=\"1\" class=\"dataframe\">\n",
       "  <thead>\n",
       "    <tr style=\"text-align: right;\">\n",
       "      <th></th>\n",
       "      <th>GEO</th>\n",
       "      <th>Department</th>\n",
       "      <th>last_evaluation</th>\n",
       "    </tr>\n",
       "  </thead>\n",
       "  <tbody>\n",
       "    <tr>\n",
       "      <th>0</th>\n",
       "      <td>Australia</td>\n",
       "      <td>Finance</td>\n",
       "      <td>0.713655</td>\n",
       "    </tr>\n",
       "    <tr>\n",
       "      <th>1</th>\n",
       "      <td>Australia</td>\n",
       "      <td>Human Resources</td>\n",
       "      <td>0.717418</td>\n",
       "    </tr>\n",
       "    <tr>\n",
       "      <th>2</th>\n",
       "      <td>Australia</td>\n",
       "      <td>IT</td>\n",
       "      <td>0.730506</td>\n",
       "    </tr>\n",
       "    <tr>\n",
       "      <th>3</th>\n",
       "      <td>Australia</td>\n",
       "      <td>Operations</td>\n",
       "      <td>0.708755</td>\n",
       "    </tr>\n",
       "    <tr>\n",
       "      <th>4</th>\n",
       "      <td>Australia</td>\n",
       "      <td>Sales</td>\n",
       "      <td>0.716214</td>\n",
       "    </tr>\n",
       "    <tr>\n",
       "      <th>5</th>\n",
       "      <td>Australia</td>\n",
       "      <td>Warehouse</td>\n",
       "      <td>0.719313</td>\n",
       "    </tr>\n",
       "    <tr>\n",
       "      <th>6</th>\n",
       "      <td>China</td>\n",
       "      <td>Finance</td>\n",
       "      <td>0.708746</td>\n",
       "    </tr>\n",
       "    <tr>\n",
       "      <th>7</th>\n",
       "      <td>China</td>\n",
       "      <td>Human Resources</td>\n",
       "      <td>0.719743</td>\n",
       "    </tr>\n",
       "    <tr>\n",
       "      <th>8</th>\n",
       "      <td>China</td>\n",
       "      <td>IT</td>\n",
       "      <td>0.727547</td>\n",
       "    </tr>\n",
       "    <tr>\n",
       "      <th>9</th>\n",
       "      <td>China</td>\n",
       "      <td>Operations</td>\n",
       "      <td>0.713979</td>\n",
       "    </tr>\n",
       "    <tr>\n",
       "      <th>10</th>\n",
       "      <td>China</td>\n",
       "      <td>Sales</td>\n",
       "      <td>0.716148</td>\n",
       "    </tr>\n",
       "    <tr>\n",
       "      <th>11</th>\n",
       "      <td>China</td>\n",
       "      <td>Warehouse</td>\n",
       "      <td>0.695519</td>\n",
       "    </tr>\n",
       "    <tr>\n",
       "      <th>12</th>\n",
       "      <td>Colombia</td>\n",
       "      <td>Finance</td>\n",
       "      <td>0.716946</td>\n",
       "    </tr>\n",
       "    <tr>\n",
       "      <th>13</th>\n",
       "      <td>Colombia</td>\n",
       "      <td>Human Resources</td>\n",
       "      <td>0.720179</td>\n",
       "    </tr>\n",
       "    <tr>\n",
       "      <th>14</th>\n",
       "      <td>Colombia</td>\n",
       "      <td>IT</td>\n",
       "      <td>0.709485</td>\n",
       "    </tr>\n",
       "    <tr>\n",
       "      <th>15</th>\n",
       "      <td>Colombia</td>\n",
       "      <td>Operations</td>\n",
       "      <td>0.706863</td>\n",
       "    </tr>\n",
       "    <tr>\n",
       "      <th>16</th>\n",
       "      <td>Colombia</td>\n",
       "      <td>Sales</td>\n",
       "      <td>0.693896</td>\n",
       "    </tr>\n",
       "    <tr>\n",
       "      <th>17</th>\n",
       "      <td>Colombia</td>\n",
       "      <td>Warehouse</td>\n",
       "      <td>0.689464</td>\n",
       "    </tr>\n",
       "    <tr>\n",
       "      <th>18</th>\n",
       "      <td>France</td>\n",
       "      <td>Finance</td>\n",
       "      <td>0.712705</td>\n",
       "    </tr>\n",
       "    <tr>\n",
       "      <th>19</th>\n",
       "      <td>France</td>\n",
       "      <td>Human Resources</td>\n",
       "      <td>0.710467</td>\n",
       "    </tr>\n",
       "    <tr>\n",
       "      <th>20</th>\n",
       "      <td>France</td>\n",
       "      <td>IT</td>\n",
       "      <td>0.686923</td>\n",
       "    </tr>\n",
       "    <tr>\n",
       "      <th>21</th>\n",
       "      <td>France</td>\n",
       "      <td>Operations</td>\n",
       "      <td>0.706828</td>\n",
       "    </tr>\n",
       "    <tr>\n",
       "      <th>22</th>\n",
       "      <td>France</td>\n",
       "      <td>Sales</td>\n",
       "      <td>0.710100</td>\n",
       "    </tr>\n",
       "    <tr>\n",
       "      <th>23</th>\n",
       "      <td>France</td>\n",
       "      <td>Warehouse</td>\n",
       "      <td>0.727737</td>\n",
       "    </tr>\n",
       "    <tr>\n",
       "      <th>24</th>\n",
       "      <td>Japan</td>\n",
       "      <td>Finance</td>\n",
       "      <td>0.706618</td>\n",
       "    </tr>\n",
       "    <tr>\n",
       "      <th>25</th>\n",
       "      <td>Japan</td>\n",
       "      <td>Human Resources</td>\n",
       "      <td>0.699758</td>\n",
       "    </tr>\n",
       "    <tr>\n",
       "      <th>26</th>\n",
       "      <td>Japan</td>\n",
       "      <td>IT</td>\n",
       "      <td>0.714228</td>\n",
       "    </tr>\n",
       "    <tr>\n",
       "      <th>27</th>\n",
       "      <td>Japan</td>\n",
       "      <td>Operations</td>\n",
       "      <td>0.723154</td>\n",
       "    </tr>\n",
       "    <tr>\n",
       "      <th>28</th>\n",
       "      <td>Japan</td>\n",
       "      <td>Sales</td>\n",
       "      <td>0.750187</td>\n",
       "    </tr>\n",
       "    <tr>\n",
       "      <th>29</th>\n",
       "      <td>Japan</td>\n",
       "      <td>Warehouse</td>\n",
       "      <td>0.715529</td>\n",
       "    </tr>\n",
       "    <tr>\n",
       "      <th>30</th>\n",
       "      <td>Korea</td>\n",
       "      <td>Finance</td>\n",
       "      <td>0.712049</td>\n",
       "    </tr>\n",
       "    <tr>\n",
       "      <th>31</th>\n",
       "      <td>Korea</td>\n",
       "      <td>Human Resources</td>\n",
       "      <td>0.707069</td>\n",
       "    </tr>\n",
       "    <tr>\n",
       "      <th>32</th>\n",
       "      <td>Korea</td>\n",
       "      <td>IT</td>\n",
       "      <td>0.710068</td>\n",
       "    </tr>\n",
       "    <tr>\n",
       "      <th>33</th>\n",
       "      <td>Korea</td>\n",
       "      <td>Operations</td>\n",
       "      <td>0.722261</td>\n",
       "    </tr>\n",
       "    <tr>\n",
       "      <th>34</th>\n",
       "      <td>Korea</td>\n",
       "      <td>Sales</td>\n",
       "      <td>0.708755</td>\n",
       "    </tr>\n",
       "    <tr>\n",
       "      <th>35</th>\n",
       "      <td>Korea</td>\n",
       "      <td>Warehouse</td>\n",
       "      <td>0.724232</td>\n",
       "    </tr>\n",
       "    <tr>\n",
       "      <th>36</th>\n",
       "      <td>Turkey</td>\n",
       "      <td>Finance</td>\n",
       "      <td>0.702317</td>\n",
       "    </tr>\n",
       "    <tr>\n",
       "      <th>37</th>\n",
       "      <td>Turkey</td>\n",
       "      <td>Human Resources</td>\n",
       "      <td>0.710179</td>\n",
       "    </tr>\n",
       "    <tr>\n",
       "      <th>38</th>\n",
       "      <td>Turkey</td>\n",
       "      <td>IT</td>\n",
       "      <td>0.727588</td>\n",
       "    </tr>\n",
       "    <tr>\n",
       "      <th>39</th>\n",
       "      <td>Turkey</td>\n",
       "      <td>Operations</td>\n",
       "      <td>0.716749</td>\n",
       "    </tr>\n",
       "    <tr>\n",
       "      <th>40</th>\n",
       "      <td>Turkey</td>\n",
       "      <td>Sales</td>\n",
       "      <td>0.697985</td>\n",
       "    </tr>\n",
       "    <tr>\n",
       "      <th>41</th>\n",
       "      <td>Turkey</td>\n",
       "      <td>Warehouse</td>\n",
       "      <td>0.730975</td>\n",
       "    </tr>\n",
       "    <tr>\n",
       "      <th>42</th>\n",
       "      <td>UK</td>\n",
       "      <td>Finance</td>\n",
       "      <td>0.728633</td>\n",
       "    </tr>\n",
       "    <tr>\n",
       "      <th>43</th>\n",
       "      <td>UK</td>\n",
       "      <td>Human Resources</td>\n",
       "      <td>0.714868</td>\n",
       "    </tr>\n",
       "    <tr>\n",
       "      <th>44</th>\n",
       "      <td>UK</td>\n",
       "      <td>IT</td>\n",
       "      <td>0.733201</td>\n",
       "    </tr>\n",
       "    <tr>\n",
       "      <th>45</th>\n",
       "      <td>UK</td>\n",
       "      <td>Operations</td>\n",
       "      <td>0.707157</td>\n",
       "    </tr>\n",
       "    <tr>\n",
       "      <th>46</th>\n",
       "      <td>UK</td>\n",
       "      <td>Sales</td>\n",
       "      <td>0.716842</td>\n",
       "    </tr>\n",
       "    <tr>\n",
       "      <th>47</th>\n",
       "      <td>UK</td>\n",
       "      <td>Warehouse</td>\n",
       "      <td>0.719466</td>\n",
       "    </tr>\n",
       "    <tr>\n",
       "      <th>48</th>\n",
       "      <td>US</td>\n",
       "      <td>Finance</td>\n",
       "      <td>0.719767</td>\n",
       "    </tr>\n",
       "    <tr>\n",
       "      <th>49</th>\n",
       "      <td>US</td>\n",
       "      <td>Human Resources</td>\n",
       "      <td>0.724621</td>\n",
       "    </tr>\n",
       "    <tr>\n",
       "      <th>50</th>\n",
       "      <td>US</td>\n",
       "      <td>IT</td>\n",
       "      <td>0.684723</td>\n",
       "    </tr>\n",
       "    <tr>\n",
       "      <th>51</th>\n",
       "      <td>US</td>\n",
       "      <td>Operations</td>\n",
       "      <td>0.719004</td>\n",
       "    </tr>\n",
       "    <tr>\n",
       "      <th>52</th>\n",
       "      <td>US</td>\n",
       "      <td>Sales</td>\n",
       "      <td>0.711544</td>\n",
       "    </tr>\n",
       "    <tr>\n",
       "      <th>53</th>\n",
       "      <td>US</td>\n",
       "      <td>Warehouse</td>\n",
       "      <td>0.701460</td>\n",
       "    </tr>\n",
       "  </tbody>\n",
       "</table>\n",
       "</div>"
      ],
      "text/plain": [
       "          GEO       Department  last_evaluation\n",
       "0   Australia          Finance         0.713655\n",
       "1   Australia  Human Resources         0.717418\n",
       "2   Australia               IT         0.730506\n",
       "3   Australia       Operations         0.708755\n",
       "4   Australia            Sales         0.716214\n",
       "5   Australia        Warehouse         0.719313\n",
       "6       China          Finance         0.708746\n",
       "7       China  Human Resources         0.719743\n",
       "8       China               IT         0.727547\n",
       "9       China       Operations         0.713979\n",
       "10      China            Sales         0.716148\n",
       "11      China        Warehouse         0.695519\n",
       "12   Colombia          Finance         0.716946\n",
       "13   Colombia  Human Resources         0.720179\n",
       "14   Colombia               IT         0.709485\n",
       "15   Colombia       Operations         0.706863\n",
       "16   Colombia            Sales         0.693896\n",
       "17   Colombia        Warehouse         0.689464\n",
       "18     France          Finance         0.712705\n",
       "19     France  Human Resources         0.710467\n",
       "20     France               IT         0.686923\n",
       "21     France       Operations         0.706828\n",
       "22     France            Sales         0.710100\n",
       "23     France        Warehouse         0.727737\n",
       "24      Japan          Finance         0.706618\n",
       "25      Japan  Human Resources         0.699758\n",
       "26      Japan               IT         0.714228\n",
       "27      Japan       Operations         0.723154\n",
       "28      Japan            Sales         0.750187\n",
       "29      Japan        Warehouse         0.715529\n",
       "30      Korea          Finance         0.712049\n",
       "31      Korea  Human Resources         0.707069\n",
       "32      Korea               IT         0.710068\n",
       "33      Korea       Operations         0.722261\n",
       "34      Korea            Sales         0.708755\n",
       "35      Korea        Warehouse         0.724232\n",
       "36     Turkey          Finance         0.702317\n",
       "37     Turkey  Human Resources         0.710179\n",
       "38     Turkey               IT         0.727588\n",
       "39     Turkey       Operations         0.716749\n",
       "40     Turkey            Sales         0.697985\n",
       "41     Turkey        Warehouse         0.730975\n",
       "42         UK          Finance         0.728633\n",
       "43         UK  Human Resources         0.714868\n",
       "44         UK               IT         0.733201\n",
       "45         UK       Operations         0.707157\n",
       "46         UK            Sales         0.716842\n",
       "47         UK        Warehouse         0.719466\n",
       "48         US          Finance         0.719767\n",
       "49         US  Human Resources         0.724621\n",
       "50         US               IT         0.684723\n",
       "51         US       Operations         0.719004\n",
       "52         US            Sales         0.711544\n",
       "53         US        Warehouse         0.701460"
      ]
     },
     "execution_count": 11,
     "metadata": {},
     "output_type": "execute_result"
    }
   ],
   "source": [
    "#Desempenho dos funcionários de cada departamento em todos os países\n",
    "desempenho = dados.groupby(['GEO', 'Department'])['last_evaluation'].mean().reset_index()\n",
    "desempenho"
   ]
  },
  {
   "cell_type": "markdown",
   "metadata": {
    "colab_type": "text",
    "id": "H3_qHBl52INg"
   },
   "source": [
    "Já visando a análise de correlação entre os dados podemos modificar alguns dados para se encaixarem no padrão numérico necessário para a análise, então podemos transformar as colunas `Gender` e `salary` de `object` para `int` \\\n",
    "Gênero masculino vira `1` e feminino `2` \\\n",
    "Assim como salários baixos, médios e altos viram `1`, `2` e `3` respectivamente"
   ]
  },
  {
   "cell_type": "code",
   "execution_count": 12,
   "metadata": {
    "colab": {},
    "colab_type": "code",
    "id": "k6vP3zLo2INh"
   },
   "outputs": [],
   "source": [
    "#Muda dados de gênero e salário para numéricos\n",
    "dados['Gender'] = dados['Gender'].replace({'M': 1, 'F': 2})\n",
    "dados['salary'] = dados['salary'].replace({'low': 1, 'medium': 2, 'high': 3})"
   ]
  },
  {
   "cell_type": "markdown",
   "metadata": {
    "colab_type": "text",
    "id": "0gxDnc_52INk"
   },
   "source": [
    "Outra coisa que é possível fazer é simplificar o resultado das pesquisas fazendo uma média delas. Podemos observar nas informações apresentadas no Kaggle que as pesquisas seguem um mesmo formato, apresentando valores entre 1 e 5.\n",
    "1 para fraco e 5 para forte em relação ao tema abordado.\n",
    "Então com as médias feitas podemos descartar as colunas com as pesquisas separadas.\n",
    "É isso que irei fazer."
   ]
  },
  {
   "cell_type": "code",
   "execution_count": 13,
   "metadata": {
    "colab": {},
    "colab_type": "code",
    "id": "wIbBgVw72INl"
   },
   "outputs": [],
   "source": [
    "#Média do resultado das pesquisas realizada na empresa\n",
    "dados['EMP_Sat_OnPrem_mean'] = (dados['EMP_Sat_OnPrem_1'] + dados['EMP_Sat_OnPrem_2'] + dados['EMP_Sat_OnPrem_3'] + dados['EMP_Sat_OnPrem_4'] + dados['EMP_Sat_OnPrem_5']) / 5\n",
    "dados['EMP_Sat_Remote_mean'] = (dados['EMP_Sat_Remote_1'] + dados['EMP_Sat_Remote_2'] + dados['EMP_Sat_Remote_3'] + dados['EMP_Sat_Remote_4'] + dados['EMP_Sat_Remote_5']) / 5\n",
    "dados['EMP_Engagement_mean'] = (dados['EMP_Engagement_1'] + dados['EMP_Engagement_2'] + dados['EMP_Engagement_3'] + dados['EMP_Engagement_4'] + dados['EMP_Engagement_5']) / 5\n",
    "dados['EMP_Work_Status_mean'] = (dados['Emp_Work_Status2'] + dados['Emp_Work_Status_3'] + dados['Emp_Work_Status_4'] + dados['Emp_Work_Status_5']) / 4\n",
    "dados['EMP_Competitive'] = (dados['Emp_Competitive_1'] + dados['Emp_Competitive_2'] + dados['Emp_Competitive_3'] + dados['Emp_Competitive_4'] + dados['Emp_Competitive_5']) / 5\n",
    "dados['EMP_Collaborative'] = (dados['Emp_Collaborative_1'] + dados['Emp_Collaborative_2'] + dados['Emp_Collaborative_3'] + dados['Emp_Collaborative_4'] + dados['Emp_Collaborative_5']) / 5"
   ]
  },
  {
   "cell_type": "code",
   "execution_count": 14,
   "metadata": {
    "colab": {},
    "colab_type": "code",
    "id": "NZtN50GG2INp"
   },
   "outputs": [],
   "source": [
    "#Apaga todos os resultados de pesquisa e mantem só as médias\n",
    "dados = dados.drop(['EMP_Sat_OnPrem_1', 'EMP_Sat_OnPrem_2', 'EMP_Sat_OnPrem_3', 'EMP_Sat_OnPrem_4', 'EMP_Sat_OnPrem_5'],axis =1)\n",
    "dados = dados.drop(['EMP_Sat_Remote_1', 'EMP_Sat_Remote_2', 'EMP_Sat_Remote_3', 'EMP_Sat_Remote_4', 'EMP_Sat_Remote_5'],axis =1)\n",
    "dados = dados.drop(['EMP_Engagement_1', 'EMP_Engagement_2', 'EMP_Engagement_3', 'EMP_Engagement_4', 'EMP_Engagement_5'],axis =1)\n",
    "dados = dados.drop(['Emp_Work_Status2', 'Emp_Work_Status_3', 'Emp_Work_Status_4', 'Emp_Work_Status_5'],axis =1)\n",
    "dados = dados.drop(['Emp_Competitive_1', 'Emp_Competitive_2', 'Emp_Competitive_3', 'Emp_Competitive_4', 'Emp_Competitive_5'],axis =1)\n",
    "dados = dados.drop(['Emp_Collaborative_1', 'Emp_Collaborative_2', 'Emp_Collaborative_3', 'Emp_Collaborative_4', 'Emp_Collaborative_5'],axis =1)"
   ]
  },
  {
   "cell_type": "markdown",
   "metadata": {
    "colab_type": "text",
    "id": "XFZ296UX2INt"
   },
   "source": [
    "Certo, tudo parece estar em ordem para começarmos a verificar as correlações entre os dados.\n",
    "Então vamos calcular!"
   ]
  },
  {
   "cell_type": "code",
   "execution_count": 15,
   "metadata": {
    "colab": {},
    "colab_type": "code",
    "id": "I_hkCt9P2INt",
    "outputId": "f365f7b4-f78e-46d2-9b4b-aa50d951aaa3",
    "scrolled": true
   },
   "outputs": [
    {
     "data": {
      "image/png": "[encoded data removed]",
      "text/plain": [
       "<Figure size 936x792 with 2 Axes>"
      ]
     },
     "metadata": {
      "needs_background": "light"
     },
     "output_type": "display_data"
    }
   ],
   "source": [
    "#Verifica correlação dos dados\n",
    "correlacao = dados.corr()\n",
    "#Mostra o heatmap\n",
    "plt.figure(figsize=(13, 11))\n",
    "mask = np.zeros_like(correlacao)\n",
    "mask[np.triu_indices_from(mask)] = True\n",
    "with sns.axes_style(\"white\"):\n",
    "    ax = sns.heatmap(correlacao, mask=mask, vmin=-1, vmax=1, square=True,  cmap=sns.diverging_palette(20, 220, n=200), annot=True, fmt='.1f')\n",
    "    plt.show()"
   ]
  },
  {
   "cell_type": "markdown",
   "metadata": {
    "colab_type": "text",
    "id": "o9R1gweN2IN0"
   },
   "source": [
    "Já podemos ver algumas correlações fortes através do heatmap, mas a visualização não ficou muito boa, então irei retirar algumas colunas irrelevantes que não apresentam nenhuma correlação e salvar em um segundo dataframe, assim poderemos visualizar melhor a figura"
   ]
  },
  {
   "cell_type": "code",
   "execution_count": 16,
   "metadata": {
    "colab": {},
    "colab_type": "code",
    "id": "wrLAid1K2IN1",
    "outputId": "f6470243-10be-4628-d43e-d2b684c00c94"
   },
   "outputs": [
    {
     "data": {
      "image/png": "[encoded data removed]",
      "text/plain": [
       "<Figure size 1080x864 with 2 Axes>"
      ]
     },
     "metadata": {
      "needs_background": "light"
     },
     "output_type": "display_data"
    }
   ],
   "source": [
    "aux = dados\n",
    "aux = aux.drop(['Will_Relocate', 'Work_accident', 'salary', 'Gender', 'EMP_Work_Status_mean', 'EMP_Sat_OnPrem_mean'],axis =1)\n",
    "corrAux = aux.corr()\n",
    "plt.figure(figsize=(15, 12))\n",
    "mask = np.zeros_like(corrAux)\n",
    "mask[np.triu_indices_from(mask)] = True\n",
    "with sns.axes_style(\"white\"):\n",
    "    ax = sns.heatmap(corrAux, mask=mask, vmin=-1, vmax=1, square=True,  cmap=sns.diverging_palette(20, 220, n=200), annot=True, fmt='.2f')\n",
    "    plt.show()"
   ]
  },
  {
   "cell_type": "markdown",
   "metadata": {
    "colab_type": "text",
    "id": "Y21QjEk92IN4"
   },
   "source": [
    "Perfeito!\n",
    "Ao contrário do que imaginei, os dados `Gender` e `salary` não apresentaram nenhuma informação relevante, então não foram necessários."
   ]
  },
  {
   "cell_type": "markdown",
   "metadata": {
    "colab_type": "text",
    "id": "tZfvL4pf2IN5"
   },
   "source": [
    "Muito bem, agora podemos partir para as análises mais avançadas baseado nas correlações apresentadas.\n",
    "A primeira mostra que o engajamento está fortemente correlacionado com o abandono da empresa. O funcionário que não se sente engajado tem uma alta probabilidade de abandonar a empresa."
   ]
  },
  {
   "cell_type": "code",
   "execution_count": 17,
   "metadata": {
    "colab": {},
    "colab_type": "code",
    "id": "92nWhZYI2IN6",
    "outputId": "079cc3d6-39e4-4f18-9a3b-8a78a9a48443"
   },
   "outputs": [
    {
     "data": {
      "image/png": "[encoded data removed]",
      "text/plain": [
       "<Figure size 432x288 with 1 Axes>"
      ]
     },
     "metadata": {
      "needs_background": "light"
     },
     "output_type": "display_data"
    }
   ],
   "source": [
    "#Engajamento x Abandono da empresa\n",
    "sns.lineplot(x='EMP_Engagement_mean', y='left_Company', data = dados)\n",
    "plt.xlabel(\"Engajamento na empresa\")\n",
    "plt.ylabel(\"Saiu da empresa? (1-Sim 0-Não)\")\n",
    "plt.show()"
   ]
  },
  {
   "cell_type": "markdown",
   "metadata": {
    "colab_type": "text",
    "id": "sj2mnZf72IN_"
   },
   "source": [
    "Nesse caso abaixo podemos ver que funcionários que fazem a maior parte de seu trabalho remotamente tem melhores avaliações.\n",
    "Mostrando que trabalhar fisicamente na empresa não apresenta melhores resultados."
   ]
  },
  {
   "cell_type": "code",
   "execution_count": 19,
   "metadata": {
    "colab": {},
    "colab_type": "code",
    "id": "49mIw4uH2IOA",
    "outputId": "8d63f109-4176-44d2-a46f-c38ab79df61c"
   },
   "outputs": [
    {
     "data": {
      "image/png": "[encoded data removed]",
      "text/plain": [
       "<Figure size 432x288 with 1 Axes>"
      ]
     },
     "metadata": {
      "needs_background": "light"
     },
     "output_type": "display_data"
    }
   ],
   "source": [
    "#Trabalho remoto x avaliação de desempenho\n",
    "sns.regplot(x='Percent_Remote', y='last_evaluation', data = dados)\n",
    "plt.xlabel(\"Porcentagem de trabalho remoto\")\n",
    "plt.ylabel(\"Desempenho\")\n",
    "plt.show()"
   ]
  },
  {
   "cell_type": "markdown",
   "metadata": {
    "colab_type": "text",
    "id": "JQt45Xs72IOF"
   },
   "source": [
    "Seguindo a tema sobre trabalho remoto, podemos observar que os funcionários que fazem maior parte do seu trabalho remotamente tendem a acessar menos o LinkedIn, isso pode demonstrar que os funcionários que trabalham fisicamente acessam essas plataformas para passar o tempo quando não possuem nada para fazer. Os funcionários que estão em casa deixam de acessar o site para passar tempo com suas familias ou algo que está habituado a fazer quando está fora do trabalho."
   ]
  },
  {
   "cell_type": "code",
   "execution_count": 20,
   "metadata": {
    "colab": {},
    "colab_type": "code",
    "id": "wQfD9GDb2IOG",
    "outputId": "091ed63c-59d4-4d01-a358-5c1c53120ee3"
   },
   "outputs": [
    {
     "data": {
      "image/png": "[encoded data removed]",
      "text/plain": [
       "<Figure size 432x288 with 1 Axes>"
      ]
     },
     "metadata": {
      "needs_background": "light"
     },
     "output_type": "display_data"
    }
   ],
   "source": [
    "#Trabalho remoto x acessos ao Linkedin\n",
    "sns.lineplot(x='Percent_Remote', y='LinkedIn_Hits', data=dados, palette=\"tab10\", linewidth=2.5)\n",
    "plt.xlabel(\"Porcentagem de trabalho remoto\")\n",
    "plt.ylabel(\"Acessos ao LinkedIn\")\n",
    "plt.show()"
   ]
  },
  {
   "cell_type": "markdown",
   "metadata": {
    "colab_type": "text",
    "id": "H015gh782IOL"
   },
   "source": [
    "Agora podemos ligar o número de acessos no LinkedIn com o desempenho do funcionário, pois também apresenta uma correlação forte.\n",
    "Chegamos a conclusão que os funcionários que apresentaram maiores notas de desempenho não acessaram o site tantas vezes como os que foram piores. Mas vemos também que não acessar o LinkedIn não resulta em melhor desempenho, ou seja, não é uma condição suficiente."
   ]
  },
  {
   "cell_type": "code",
   "execution_count": 21,
   "metadata": {
    "colab": {},
    "colab_type": "code",
    "id": "2UX5IXTS2IOM",
    "outputId": "41ed3866-2db8-40f1-eed6-f45a8bba529f"
   },
   "outputs": [
    {
     "data": {
      "image/png": "[encoded data removed]",
      "text/plain": [
       "<Figure size 432x288 with 1 Axes>"
      ]
     },
     "metadata": {
      "needs_background": "light"
     },
     "output_type": "display_data"
    }
   ],
   "source": [
    "#Acessos ao Linkedin x avaliação de desempenho\n",
    "sns.lineplot(x='LinkedIn_Hits', y='last_evaluation', data=dados, palette=\"tab10\", linewidth=2.5)\n",
    "plt.xlabel('Acessos ao LinkedIn')\n",
    "plt.ylabel('Última avaliação de desempenho')\n",
    "plt.show()"
   ]
  },
  {
   "cell_type": "markdown",
   "metadata": {
    "colab_type": "text",
    "id": "Cr7uFCtL2IOP"
   },
   "source": [
    "Agora vamos passar para um nova área de análise. Vamos tentar identificar qual o principal motivo que mulheres e homens saem da empresa.\n",
    "De acordo com o heatmap de correlação vemos que o principal motivo que leva a mulheres abandonarem a empresa é a carga horária mensal, ou seja, quanto maior a carga horário de uma mulher na empresa, maior a chance dela sair."
   ]
  },
  {
   "cell_type": "code",
   "execution_count": 22,
   "metadata": {
    "colab": {},
    "colab_type": "code",
    "id": "lFKViR3Z2IOQ",
    "outputId": "3a9437bf-43bc-499c-8ff5-f03909a1346e"
   },
   "outputs": [
    {
     "data": {
      "image/png": "[encoded data removed]",
      "text/plain": [
       "<Figure size 432x288 with 1 Axes>"
      ]
     },
     "metadata": {
      "needs_background": "light"
     },
     "output_type": "display_data"
    }
   ],
   "source": [
    "#Correlação do motivo que as mulheres mais abandonam a empresa\n",
    "sns.scatterplot(x='Women_Leave', y='average_montly_hours', data = dados)\n",
    "plt.xticks(range(-1, 3))\n",
    "plt.xlabel('Mulher saiu? (1-Sim 0-Não)')\n",
    "plt.ylabel('Média mensal de horas trabalha')\n",
    "plt.show()"
   ]
  },
  {
   "cell_type": "markdown",
   "metadata": {
    "colab_type": "text",
    "id": "n7rF77un2IOT"
   },
   "source": [
    "Agora os homens apresentam um resultado diferente.\n",
    "O motivo que levam os homens a abandonarem uma empresa está correlacionada a quatro fatores: Identidade com a empresa, satisfação com seu cargo, posição e seu título.\n",
    "Ou seja, homens que não se sentem valorizados ou engajados com o seu trabalho tendem a sair."
   ]
  },
  {
   "cell_type": "code",
   "execution_count": 23,
   "metadata": {
    "colab": {},
    "colab_type": "code",
    "id": "jRjMjv7f2IOT",
    "outputId": "358b3b72-7c85-4afe-ee11-d07d6f8c5473"
   },
   "outputs": [
    {
     "data": {
      "image/png": "[encoded data removed]",
      "text/plain": [
       "<Figure size 648x360 with 2 Axes>"
      ]
     },
     "metadata": {
      "needs_background": "light"
     },
     "output_type": "display_data"
    }
   ],
   "source": [
    "#Correlação do motivo que os homens mais abandonam a empresa\n",
    "menLeaveCorr = dados.loc[:,['Men_Leave', 'Emp_Identity', 'Emp_Role', 'Emp_Position', 'Emp_Title']].corr()\n",
    "\n",
    "plt.figure(figsize=(9, 5))\n",
    "mask = np.zeros_like(menLeaveCorr)\n",
    "mask[np.triu_indices_from(mask)] = True\n",
    "with sns.axes_style(\"white\"):\n",
    "    ax = sns.heatmap(menLeaveCorr, mask=mask, vmin=-1, vmax=1, square=True,  cmap=sns.diverging_palette(20, 220, n=200), annot=True)\n",
    "    plt.show()"
   ]
  },
  {
   "cell_type": "markdown",
   "metadata": {
    "colab_type": "text",
    "id": "U30_f1C82IOX"
   },
   "source": [
    "Analisando agora podemos ver que fazer a média do resultado das pesquisas foram um decisão acertada, pois identificamos correlações fortes delas."
   ]
  },
  {
   "cell_type": "markdown",
   "metadata": {
    "colab_type": "text",
    "id": "UnD30Ueh2IOY"
   },
   "source": [
    "Lembrando que algumas visualizações foram feitas utilizando o `left_Company` e outras com `Women_Leave` e `Men_Leave`. Não sabemos qual está de fato correta, mas mostrei os dois casos. Mas agora que iremos passar para a parte de Machine Learning essa inconsistência não pode existir, então irei considerar apenas a `left_Company` para análise. Pois ela apresenta 100% de dados preenchidos, ao contrário dos outros. Então irei desconsiderá-las."
   ]
  },
  {
   "cell_type": "markdown",
   "metadata": {
    "colab_type": "text",
    "id": "ia9KMlAJ2IOZ"
   },
   "source": [
    "## Machine Learning"
   ]
  },
  {
   "cell_type": "markdown",
   "metadata": {
    "colab_type": "text",
    "id": "6d6HoKOV2IOa"
   },
   "source": [
    "Agora irei começar a trabalhar nos modelos de aprendizagem de máquina, primeiro de tudo precisamos importar novos pacotes que serão necessários."
   ]
  },
  {
   "cell_type": "code",
   "execution_count": 24,
   "metadata": {
    "colab": {},
    "colab_type": "code",
    "id": "AKKF2p9r2IOa"
   },
   "outputs": [],
   "source": [
    "from sklearn.linear_model import LogisticRegression\n",
    "from sklearn.linear_model import LinearRegression\n",
    "from sklearn.model_selection import train_test_split\n",
    "from sklearn.metrics import confusion_matrix\n",
    "from sklearn.metrics import mean_squared_error\n",
    "from math import sqrt"
   ]
  },
  {
   "cell_type": "markdown",
   "metadata": {
    "colab_type": "text",
    "id": "xGy06AgX2IOd"
   },
   "source": [
    "Para uma análise mais completa dos dados iremos utilizar uma técnica que se chama One Hot Enconding que consiste em transformar valores de string em colunas numércias onde marca `1` para quando o caso for verdadeiro e `0` quando falso."
   ]
  },
  {
   "cell_type": "markdown",
   "metadata": {
    "colab_type": "text",
    "id": "rjEEQecZ2IOe"
   },
   "source": [
    "Um exemplo de colunas: \\\n",
    "\\\n",
    "GEO_France - Geo_US - Geo_Brazil \\\n",
    "0     -       0    -     1 \\\n",
    "\\\n",
    "Nesse caso sabemos que o país não é França nem US, mas sim o Brasil."
   ]
  },
  {
   "cell_type": "code",
   "execution_count": 25,
   "metadata": {
    "colab": {},
    "colab_type": "code",
    "id": "rOsoWKJQ2IOf"
   },
   "outputs": [],
   "source": [
    "#One Hot Encoding das colunas 'Department', 'GEO' e 'Role' que são strings\n",
    "oneHotEncoding = pd.get_dummies(dados, columns=['Department', 'GEO', 'Role' ])"
   ]
  },
  {
   "cell_type": "code",
   "execution_count": 26,
   "metadata": {
    "colab": {},
    "colab_type": "code",
    "id": "qJ0sTteg2IOi"
   },
   "outputs": [],
   "source": [
    "#Nova correlação dos dados agora incluindo os valores gerados pelo One Hot Encoding\n",
    "corrEncoding = oneHotEncoding.corr()"
   ]
  },
  {
   "cell_type": "code",
   "execution_count": 27,
   "metadata": {
    "colab": {},
    "colab_type": "code",
    "id": "3iFznONu2IOm",
    "outputId": "93bd94cc-182e-40aa-9757-b4b36b6d83e7"
   },
   "outputs": [
    {
     "data": {
      "image/png": "[encoded data removed]",
      "text/plain": [
       "<Figure size 648x360 with 2 Axes>"
      ]
     },
     "metadata": {
      "needs_background": "light"
     },
     "output_type": "display_data"
    }
   ],
   "source": [
    "plt.figure(figsize=(9, 5))\n",
    "mask = np.zeros_like(corrEncoding)\n",
    "mask[np.triu_indices_from(mask)] = True\n",
    "with sns.axes_style(\"white\"):\n",
    "    ax = sns.heatmap(corrEncoding, mask=mask, vmin=-1, vmax=1, square=True,  cmap=sns.diverging_palette(20, 220, n=200))\n",
    "    plt.show()"
   ]
  },
  {
   "cell_type": "markdown",
   "metadata": {
    "colab_type": "text",
    "id": "WAkdVigM2IOr"
   },
   "source": [
    "Como podemos ver o One Hot Encoding não gerou nenhuma correlação interessante ao contrário do que pensei, então irei voltar a trabalhar com os dados sem ele."
   ]
  },
  {
   "cell_type": "markdown",
   "metadata": {
    "colab_type": "text",
    "id": "0aW93y1t2IOr"
   },
   "source": [
    "Certo, agora pensando em possibilidades de possíveis modelos eu cheguei a 3 possíveis labels, que são: \\\n",
    "`left_Company` para prever quem vai sair da empresa \\\n",
    "`last_evaluation` que preve o desempenho do funcionário e\\\n",
    "`time_spend_company` que preve quanto tempo o funcionário irá ficar na empresa"
   ]
  },
  {
   "cell_type": "markdown",
   "metadata": {
    "colab_type": "text",
    "id": "aeovjbDU2IOs"
   },
   "source": [
    "Essa última foi logo descartada pois para verificar o tempo que a pessoa vai ficar na empresa temos que considerar apenas os que já saíram, porque quem ainda está na empresa não serve como parâmetro. Se olharmos apenas os funcionários que já saíram ficamos com uma quantidade muito pequena de dados para análise, então infelizmente não será possível. Então irei fazer apenas dos dois primeiros."
   ]
  },
  {
   "cell_type": "markdown",
   "metadata": {
    "colab_type": "text",
    "id": "FJj4GfVU2IOt"
   },
   "source": [
    "### Previsão de quem irá sair da empresa"
   ]
  },
  {
   "cell_type": "code",
   "execution_count": 28,
   "metadata": {
    "colab": {},
    "colab_type": "code",
    "id": "J48tp5432IOt"
   },
   "outputs": [],
   "source": [
    "#Separa oque são as features e o target\n",
    "features = dados.drop(columns=['left_Company', 'Women_Leave', 'Men_Leave', 'EMP_Engagement_mean']).select_dtypes(exclude='object')\n",
    "target = dados.left_Company"
   ]
  },
  {
   "cell_type": "markdown",
   "metadata": {
    "colab_type": "text",
    "id": "LOjy8Rku2IOw"
   },
   "source": [
    "Aqui eu tive que retirar a pesquisa de angajamento `EMP_Engagement_mean` pois ela apresenta uma correlação de 100% com o `left_Company`, e isso irá gerar uma predição de 100% também. Então irei considera-la e tentar descobrir quem irá sair da empresa sem essa pesquisa."
   ]
  },
  {
   "cell_type": "markdown",
   "metadata": {
    "colab_type": "text",
    "id": "EvCoo7JC2IOx"
   },
   "source": [
    "Também retirei o `left_Company` pois é o target e `Women_Leave`/`Men_Leave` pois apresentam valores nulos e estamos desconsiderando elas nessa segunda etapa. E por fim, retirei os valores string."
   ]
  },
  {
   "cell_type": "code",
   "execution_count": 29,
   "metadata": {
    "colab": {},
    "colab_type": "code",
    "id": "wTTnYqkI2IOy",
    "outputId": "864bbfca-937c-4cbe-fa27-c337d3044b81"
   },
   "outputs": [
    {
     "name": "stdout",
     "output_type": "stream",
     "text": [
      "<class 'pandas.core.frame.DataFrame'>\n",
      "Int64Index: 14871 entries, 0 to 14870\n",
      "Data columns (total 23 columns):\n",
      "Will_Relocate                            14871 non-null int64\n",
      "Percent_Remote                           14871 non-null float64\n",
      "last_evaluation                          14871 non-null float64\n",
      "number_project                           14871 non-null int64\n",
      "average_montly_hours                     14871 non-null int64\n",
      "time_spend_company                       14871 non-null int64\n",
      "Work_accident                            14871 non-null int64\n",
      "promotion_last_5years                    14871 non-null int64\n",
      "salary                                   14871 non-null int64\n",
      "Gender                                   14871 non-null int64\n",
      "LinkedIn_Hits                            14871 non-null int64\n",
      "Emp_Identity                             14871 non-null int64\n",
      "Emp_Role                                 14871 non-null int64\n",
      "Emp_Position                             14871 non-null int64\n",
      "Emp_Title                                14871 non-null int64\n",
      "Sensor_StepCount                         14871 non-null int64\n",
      "Sensor_Heartbeat(Average/Min)            14871 non-null int64\n",
      "Sensor_Proximity(1-highest/10-lowest)    14871 non-null int64\n",
      "EMP_Sat_OnPrem_mean                      14871 non-null float64\n",
      "EMP_Sat_Remote_mean                      14871 non-null float64\n",
      "EMP_Work_Status_mean                     14871 non-null float64\n",
      "EMP_Competitive                          14871 non-null float64\n",
      "EMP_Collaborative                        14871 non-null float64\n",
      "dtypes: float64(7), int64(16)\n",
      "memory usage: 2.7 MB\n"
     ]
    }
   ],
   "source": [
    "features.info()"
   ]
  },
  {
   "cell_type": "markdown",
   "metadata": {
    "colab_type": "text",
    "id": "xWIb3PgH2IO2"
   },
   "source": [
    "Tudo parece em ordem"
   ]
  },
  {
   "cell_type": "markdown",
   "metadata": {
    "colab_type": "text",
    "id": "Ce0ReM6V2IO3"
   },
   "source": [
    "Agora irei separar o arquivo em 80% para treino e 20% para teste, assim podemos validar o modelo e verificar sua eficácia utilizando o teste."
   ]
  },
  {
   "cell_type": "code",
   "execution_count": 30,
   "metadata": {
    "colab": {},
    "colab_type": "code",
    "id": "X8bJz6qZ2IO4"
   },
   "outputs": [],
   "source": [
    "#Separa 80% treino e 20% teste\n",
    "x_train, x_test, y_train, y_test = train_test_split(features, target, test_size=0.2, random_state=0)"
   ]
  },
  {
   "cell_type": "code",
   "execution_count": 31,
   "metadata": {
    "colab": {},
    "colab_type": "code",
    "id": "_Re9HuO82IO7"
   },
   "outputs": [],
   "source": [
    "#Importa o medelo de Regressão Logística que iremos utilizar\n",
    "model = LogisticRegression()"
   ]
  },
  {
   "cell_type": "markdown",
   "metadata": {
    "colab_type": "text",
    "id": "0R8EUlPR2IO-"
   },
   "source": [
    "Ok, vamos treinar o modelo."
   ]
  },
  {
   "cell_type": "code",
   "execution_count": 32,
   "metadata": {
    "colab": {},
    "colab_type": "code",
    "id": "LXvWcqMi2IO_",
    "outputId": "fb52b599-3432-4a39-a4ec-1b5216077476"
   },
   "outputs": [
    {
     "name": "stderr",
     "output_type": "stream",
     "text": [
      "c:\\users\\andré elias\\appdata\\local\\programs\\python\\python37\\lib\\site-packages\\sklearn\\linear_model\\_logistic.py:764: ConvergenceWarning: lbfgs failed to converge (status=1):\n",
      "STOP: TOTAL NO. of ITERATIONS REACHED LIMIT.\n",
      "\n",
      "Increase the number of iterations (max_iter) or scale the data as shown in:\n",
      "    https://scikit-learn.org/stable/modules/preprocessing.html\n",
      "Please also refer to the documentation for alternative solver options:\n",
      "    https://scikit-learn.org/stable/modules/linear_model.html#logistic-regression\n",
      "  extra_warning_msg=_LOGISTIC_SOLVER_CONVERGENCE_MSG)\n"
     ]
    },
    {
     "data": {
      "text/plain": [
       "LogisticRegression()"
      ]
     },
     "execution_count": 32,
     "metadata": {},
     "output_type": "execute_result"
    }
   ],
   "source": [
    "#Treina o modelo\n",
    "model.fit(x_train, y_train)"
   ]
  },
  {
   "cell_type": "markdown",
   "metadata": {
    "colab_type": "text",
    "id": "SwPyzBQt2IPC"
   },
   "source": [
    "Modelo treinado agora precisamos fazer algumas manipulações de dados"
   ]
  },
  {
   "cell_type": "code",
   "execution_count": 33,
   "metadata": {
    "colab": {},
    "colab_type": "code",
    "id": "iTN-9TVQ2IPD"
   },
   "outputs": [],
   "source": [
    "#Salvamos o resultado do predict\n",
    "predict = model.predict(x_test)"
   ]
  },
  {
   "cell_type": "code",
   "execution_count": 34,
   "metadata": {
    "colab": {},
    "colab_type": "code",
    "id": "rdfbRymK2IPG"
   },
   "outputs": [],
   "source": [
    "#Transforma o y_test que são os resultados verdadeiros em um dataframe para poder ser manipulado\n",
    "y_test = y_test.to_frame()"
   ]
  },
  {
   "cell_type": "code",
   "execution_count": 35,
   "metadata": {
    "colab": {},
    "colab_type": "code",
    "id": "m7D3UkuI2IPK",
    "outputId": "a06f4f12-c151-4263-d31d-4dfde8c032ca"
   },
   "outputs": [
    {
     "data": {
      "text/html": [
       "<div>\n",
       "<style scoped>\n",
       "    .dataframe tbody tr th:only-of-type {\n",
       "        vertical-align: middle;\n",
       "    }\n",
       "\n",
       "    .dataframe tbody tr th {\n",
       "        vertical-align: top;\n",
       "    }\n",
       "\n",
       "    .dataframe thead th {\n",
       "        text-align: right;\n",
       "    }\n",
       "</style>\n",
       "<table border=\"1\" class=\"dataframe\">\n",
       "  <thead>\n",
       "    <tr style=\"text-align: right;\">\n",
       "      <th></th>\n",
       "      <th>left_Company</th>\n",
       "    </tr>\n",
       "  </thead>\n",
       "  <tbody>\n",
       "    <tr>\n",
       "      <th>5788</th>\n",
       "      <td>0</td>\n",
       "    </tr>\n",
       "    <tr>\n",
       "      <th>5753</th>\n",
       "      <td>0</td>\n",
       "    </tr>\n",
       "    <tr>\n",
       "      <th>3460</th>\n",
       "      <td>0</td>\n",
       "    </tr>\n",
       "    <tr>\n",
       "      <th>4685</th>\n",
       "      <td>0</td>\n",
       "    </tr>\n",
       "    <tr>\n",
       "      <th>10170</th>\n",
       "      <td>0</td>\n",
       "    </tr>\n",
       "    <tr>\n",
       "      <th>6236</th>\n",
       "      <td>0</td>\n",
       "    </tr>\n",
       "    <tr>\n",
       "      <th>6423</th>\n",
       "      <td>0</td>\n",
       "    </tr>\n",
       "    <tr>\n",
       "      <th>4755</th>\n",
       "      <td>0</td>\n",
       "    </tr>\n",
       "    <tr>\n",
       "      <th>1984</th>\n",
       "      <td>1</td>\n",
       "    </tr>\n",
       "    <tr>\n",
       "      <th>3161</th>\n",
       "      <td>1</td>\n",
       "    </tr>\n",
       "    <tr>\n",
       "      <th>6721</th>\n",
       "      <td>0</td>\n",
       "    </tr>\n",
       "    <tr>\n",
       "      <th>12788</th>\n",
       "      <td>0</td>\n",
       "    </tr>\n",
       "    <tr>\n",
       "      <th>9772</th>\n",
       "      <td>1</td>\n",
       "    </tr>\n",
       "    <tr>\n",
       "      <th>10663</th>\n",
       "      <td>0</td>\n",
       "    </tr>\n",
       "    <tr>\n",
       "      <th>1978</th>\n",
       "      <td>1</td>\n",
       "    </tr>\n",
       "    <tr>\n",
       "      <th>12277</th>\n",
       "      <td>0</td>\n",
       "    </tr>\n",
       "    <tr>\n",
       "      <th>8590</th>\n",
       "      <td>0</td>\n",
       "    </tr>\n",
       "    <tr>\n",
       "      <th>6354</th>\n",
       "      <td>0</td>\n",
       "    </tr>\n",
       "    <tr>\n",
       "      <th>620</th>\n",
       "      <td>1</td>\n",
       "    </tr>\n",
       "    <tr>\n",
       "      <th>1091</th>\n",
       "      <td>0</td>\n",
       "    </tr>\n",
       "    <tr>\n",
       "      <th>9980</th>\n",
       "      <td>0</td>\n",
       "    </tr>\n",
       "    <tr>\n",
       "      <th>220</th>\n",
       "      <td>0</td>\n",
       "    </tr>\n",
       "    <tr>\n",
       "      <th>10794</th>\n",
       "      <td>0</td>\n",
       "    </tr>\n",
       "    <tr>\n",
       "      <th>7741</th>\n",
       "      <td>0</td>\n",
       "    </tr>\n",
       "    <tr>\n",
       "      <th>10685</th>\n",
       "      <td>0</td>\n",
       "    </tr>\n",
       "    <tr>\n",
       "      <th>11988</th>\n",
       "      <td>0</td>\n",
       "    </tr>\n",
       "    <tr>\n",
       "      <th>561</th>\n",
       "      <td>1</td>\n",
       "    </tr>\n",
       "    <tr>\n",
       "      <th>11363</th>\n",
       "      <td>0</td>\n",
       "    </tr>\n",
       "    <tr>\n",
       "      <th>2894</th>\n",
       "      <td>1</td>\n",
       "    </tr>\n",
       "    <tr>\n",
       "      <th>2569</th>\n",
       "      <td>1</td>\n",
       "    </tr>\n",
       "    <tr>\n",
       "      <th>...</th>\n",
       "      <td>...</td>\n",
       "    </tr>\n",
       "    <tr>\n",
       "      <th>10534</th>\n",
       "      <td>0</td>\n",
       "    </tr>\n",
       "    <tr>\n",
       "      <th>3081</th>\n",
       "      <td>0</td>\n",
       "    </tr>\n",
       "    <tr>\n",
       "      <th>1414</th>\n",
       "      <td>0</td>\n",
       "    </tr>\n",
       "    <tr>\n",
       "      <th>10085</th>\n",
       "      <td>0</td>\n",
       "    </tr>\n",
       "    <tr>\n",
       "      <th>3909</th>\n",
       "      <td>1</td>\n",
       "    </tr>\n",
       "    <tr>\n",
       "      <th>2513</th>\n",
       "      <td>1</td>\n",
       "    </tr>\n",
       "    <tr>\n",
       "      <th>3318</th>\n",
       "      <td>0</td>\n",
       "    </tr>\n",
       "    <tr>\n",
       "      <th>8308</th>\n",
       "      <td>0</td>\n",
       "    </tr>\n",
       "    <tr>\n",
       "      <th>11206</th>\n",
       "      <td>1</td>\n",
       "    </tr>\n",
       "    <tr>\n",
       "      <th>13554</th>\n",
       "      <td>0</td>\n",
       "    </tr>\n",
       "    <tr>\n",
       "      <th>1067</th>\n",
       "      <td>0</td>\n",
       "    </tr>\n",
       "    <tr>\n",
       "      <th>5920</th>\n",
       "      <td>0</td>\n",
       "    </tr>\n",
       "    <tr>\n",
       "      <th>6158</th>\n",
       "      <td>0</td>\n",
       "    </tr>\n",
       "    <tr>\n",
       "      <th>9725</th>\n",
       "      <td>1</td>\n",
       "    </tr>\n",
       "    <tr>\n",
       "      <th>13259</th>\n",
       "      <td>0</td>\n",
       "    </tr>\n",
       "    <tr>\n",
       "      <th>11086</th>\n",
       "      <td>0</td>\n",
       "    </tr>\n",
       "    <tr>\n",
       "      <th>7617</th>\n",
       "      <td>0</td>\n",
       "    </tr>\n",
       "    <tr>\n",
       "      <th>3916</th>\n",
       "      <td>1</td>\n",
       "    </tr>\n",
       "    <tr>\n",
       "      <th>9537</th>\n",
       "      <td>1</td>\n",
       "    </tr>\n",
       "    <tr>\n",
       "      <th>1275</th>\n",
       "      <td>1</td>\n",
       "    </tr>\n",
       "    <tr>\n",
       "      <th>14008</th>\n",
       "      <td>0</td>\n",
       "    </tr>\n",
       "    <tr>\n",
       "      <th>2249</th>\n",
       "      <td>1</td>\n",
       "    </tr>\n",
       "    <tr>\n",
       "      <th>8518</th>\n",
       "      <td>0</td>\n",
       "    </tr>\n",
       "    <tr>\n",
       "      <th>11368</th>\n",
       "      <td>0</td>\n",
       "    </tr>\n",
       "    <tr>\n",
       "      <th>9550</th>\n",
       "      <td>0</td>\n",
       "    </tr>\n",
       "    <tr>\n",
       "      <th>11844</th>\n",
       "      <td>0</td>\n",
       "    </tr>\n",
       "    <tr>\n",
       "      <th>4269</th>\n",
       "      <td>0</td>\n",
       "    </tr>\n",
       "    <tr>\n",
       "      <th>8877</th>\n",
       "      <td>0</td>\n",
       "    </tr>\n",
       "    <tr>\n",
       "      <th>8228</th>\n",
       "      <td>0</td>\n",
       "    </tr>\n",
       "    <tr>\n",
       "      <th>3595</th>\n",
       "      <td>1</td>\n",
       "    </tr>\n",
       "  </tbody>\n",
       "</table>\n",
       "<p>2975 rows × 1 columns</p>\n",
       "</div>"
      ],
      "text/plain": [
       "       left_Company\n",
       "5788              0\n",
       "5753              0\n",
       "3460              0\n",
       "4685              0\n",
       "10170             0\n",
       "6236              0\n",
       "6423              0\n",
       "4755              0\n",
       "1984              1\n",
       "3161              1\n",
       "6721              0\n",
       "12788             0\n",
       "9772              1\n",
       "10663             0\n",
       "1978              1\n",
       "12277             0\n",
       "8590              0\n",
       "6354              0\n",
       "620               1\n",
       "1091              0\n",
       "9980              0\n",
       "220               0\n",
       "10794             0\n",
       "7741              0\n",
       "10685             0\n",
       "11988             0\n",
       "561               1\n",
       "11363             0\n",
       "2894              1\n",
       "2569              1\n",
       "...             ...\n",
       "10534             0\n",
       "3081              0\n",
       "1414              0\n",
       "10085             0\n",
       "3909              1\n",
       "2513              1\n",
       "3318              0\n",
       "8308              0\n",
       "11206             1\n",
       "13554             0\n",
       "1067              0\n",
       "5920              0\n",
       "6158              0\n",
       "9725              1\n",
       "13259             0\n",
       "11086             0\n",
       "7617              0\n",
       "3916              1\n",
       "9537              1\n",
       "1275              1\n",
       "14008             0\n",
       "2249              1\n",
       "8518              0\n",
       "11368             0\n",
       "9550              0\n",
       "11844             0\n",
       "4269              0\n",
       "8877              0\n",
       "8228              0\n",
       "3595              1\n",
       "\n",
       "[2975 rows x 1 columns]"
      ]
     },
     "execution_count": 35,
     "metadata": {},
     "output_type": "execute_result"
    }
   ],
   "source": [
    "#Verifica os resultados verdadeiros\n",
    "y_test"
   ]
  },
  {
   "cell_type": "code",
   "execution_count": 36,
   "metadata": {
    "colab": {},
    "colab_type": "code",
    "id": "cp-cZdO82IPP"
   },
   "outputs": [],
   "source": [
    "#Cria uma nova coluna no dataframe com o predict\n",
    "y_test['predict'] = predict"
   ]
  },
  {
   "cell_type": "code",
   "execution_count": 37,
   "metadata": {
    "colab": {},
    "colab_type": "code",
    "id": "fm9jcThT2IPV",
    "outputId": "b468f9e2-97f4-475f-b90d-b26463d207c3"
   },
   "outputs": [
    {
     "data": {
      "text/html": [
       "<div>\n",
       "<style scoped>\n",
       "    .dataframe tbody tr th:only-of-type {\n",
       "        vertical-align: middle;\n",
       "    }\n",
       "\n",
       "    .dataframe tbody tr th {\n",
       "        vertical-align: top;\n",
       "    }\n",
       "\n",
       "    .dataframe thead th {\n",
       "        text-align: right;\n",
       "    }\n",
       "</style>\n",
       "<table border=\"1\" class=\"dataframe\">\n",
       "  <thead>\n",
       "    <tr style=\"text-align: right;\">\n",
       "      <th></th>\n",
       "      <th>left_Company</th>\n",
       "      <th>predict</th>\n",
       "    </tr>\n",
       "  </thead>\n",
       "  <tbody>\n",
       "    <tr>\n",
       "      <th>5788</th>\n",
       "      <td>0</td>\n",
       "      <td>0</td>\n",
       "    </tr>\n",
       "    <tr>\n",
       "      <th>5753</th>\n",
       "      <td>0</td>\n",
       "      <td>0</td>\n",
       "    </tr>\n",
       "    <tr>\n",
       "      <th>3460</th>\n",
       "      <td>0</td>\n",
       "      <td>0</td>\n",
       "    </tr>\n",
       "    <tr>\n",
       "      <th>4685</th>\n",
       "      <td>0</td>\n",
       "      <td>0</td>\n",
       "    </tr>\n",
       "    <tr>\n",
       "      <th>10170</th>\n",
       "      <td>0</td>\n",
       "      <td>0</td>\n",
       "    </tr>\n",
       "    <tr>\n",
       "      <th>6236</th>\n",
       "      <td>0</td>\n",
       "      <td>0</td>\n",
       "    </tr>\n",
       "    <tr>\n",
       "      <th>6423</th>\n",
       "      <td>0</td>\n",
       "      <td>0</td>\n",
       "    </tr>\n",
       "    <tr>\n",
       "      <th>4755</th>\n",
       "      <td>0</td>\n",
       "      <td>0</td>\n",
       "    </tr>\n",
       "    <tr>\n",
       "      <th>1984</th>\n",
       "      <td>1</td>\n",
       "      <td>1</td>\n",
       "    </tr>\n",
       "    <tr>\n",
       "      <th>3161</th>\n",
       "      <td>1</td>\n",
       "      <td>0</td>\n",
       "    </tr>\n",
       "    <tr>\n",
       "      <th>6721</th>\n",
       "      <td>0</td>\n",
       "      <td>0</td>\n",
       "    </tr>\n",
       "    <tr>\n",
       "      <th>12788</th>\n",
       "      <td>0</td>\n",
       "      <td>0</td>\n",
       "    </tr>\n",
       "    <tr>\n",
       "      <th>9772</th>\n",
       "      <td>1</td>\n",
       "      <td>0</td>\n",
       "    </tr>\n",
       "    <tr>\n",
       "      <th>10663</th>\n",
       "      <td>0</td>\n",
       "      <td>0</td>\n",
       "    </tr>\n",
       "    <tr>\n",
       "      <th>1978</th>\n",
       "      <td>1</td>\n",
       "      <td>1</td>\n",
       "    </tr>\n",
       "    <tr>\n",
       "      <th>12277</th>\n",
       "      <td>0</td>\n",
       "      <td>0</td>\n",
       "    </tr>\n",
       "    <tr>\n",
       "      <th>8590</th>\n",
       "      <td>0</td>\n",
       "      <td>0</td>\n",
       "    </tr>\n",
       "    <tr>\n",
       "      <th>6354</th>\n",
       "      <td>0</td>\n",
       "      <td>0</td>\n",
       "    </tr>\n",
       "    <tr>\n",
       "      <th>620</th>\n",
       "      <td>1</td>\n",
       "      <td>1</td>\n",
       "    </tr>\n",
       "    <tr>\n",
       "      <th>1091</th>\n",
       "      <td>0</td>\n",
       "      <td>0</td>\n",
       "    </tr>\n",
       "    <tr>\n",
       "      <th>9980</th>\n",
       "      <td>0</td>\n",
       "      <td>0</td>\n",
       "    </tr>\n",
       "    <tr>\n",
       "      <th>220</th>\n",
       "      <td>0</td>\n",
       "      <td>0</td>\n",
       "    </tr>\n",
       "    <tr>\n",
       "      <th>10794</th>\n",
       "      <td>0</td>\n",
       "      <td>0</td>\n",
       "    </tr>\n",
       "    <tr>\n",
       "      <th>7741</th>\n",
       "      <td>0</td>\n",
       "      <td>0</td>\n",
       "    </tr>\n",
       "    <tr>\n",
       "      <th>10685</th>\n",
       "      <td>0</td>\n",
       "      <td>0</td>\n",
       "    </tr>\n",
       "    <tr>\n",
       "      <th>11988</th>\n",
       "      <td>0</td>\n",
       "      <td>0</td>\n",
       "    </tr>\n",
       "    <tr>\n",
       "      <th>561</th>\n",
       "      <td>1</td>\n",
       "      <td>0</td>\n",
       "    </tr>\n",
       "    <tr>\n",
       "      <th>11363</th>\n",
       "      <td>0</td>\n",
       "      <td>0</td>\n",
       "    </tr>\n",
       "    <tr>\n",
       "      <th>2894</th>\n",
       "      <td>1</td>\n",
       "      <td>0</td>\n",
       "    </tr>\n",
       "    <tr>\n",
       "      <th>2569</th>\n",
       "      <td>1</td>\n",
       "      <td>1</td>\n",
       "    </tr>\n",
       "    <tr>\n",
       "      <th>...</th>\n",
       "      <td>...</td>\n",
       "      <td>...</td>\n",
       "    </tr>\n",
       "    <tr>\n",
       "      <th>10534</th>\n",
       "      <td>0</td>\n",
       "      <td>0</td>\n",
       "    </tr>\n",
       "    <tr>\n",
       "      <th>3081</th>\n",
       "      <td>0</td>\n",
       "      <td>0</td>\n",
       "    </tr>\n",
       "    <tr>\n",
       "      <th>1414</th>\n",
       "      <td>0</td>\n",
       "      <td>0</td>\n",
       "    </tr>\n",
       "    <tr>\n",
       "      <th>10085</th>\n",
       "      <td>0</td>\n",
       "      <td>0</td>\n",
       "    </tr>\n",
       "    <tr>\n",
       "      <th>3909</th>\n",
       "      <td>1</td>\n",
       "      <td>1</td>\n",
       "    </tr>\n",
       "    <tr>\n",
       "      <th>2513</th>\n",
       "      <td>1</td>\n",
       "      <td>0</td>\n",
       "    </tr>\n",
       "    <tr>\n",
       "      <th>3318</th>\n",
       "      <td>0</td>\n",
       "      <td>0</td>\n",
       "    </tr>\n",
       "    <tr>\n",
       "      <th>8308</th>\n",
       "      <td>0</td>\n",
       "      <td>0</td>\n",
       "    </tr>\n",
       "    <tr>\n",
       "      <th>11206</th>\n",
       "      <td>1</td>\n",
       "      <td>1</td>\n",
       "    </tr>\n",
       "    <tr>\n",
       "      <th>13554</th>\n",
       "      <td>0</td>\n",
       "      <td>0</td>\n",
       "    </tr>\n",
       "    <tr>\n",
       "      <th>1067</th>\n",
       "      <td>0</td>\n",
       "      <td>0</td>\n",
       "    </tr>\n",
       "    <tr>\n",
       "      <th>5920</th>\n",
       "      <td>0</td>\n",
       "      <td>0</td>\n",
       "    </tr>\n",
       "    <tr>\n",
       "      <th>6158</th>\n",
       "      <td>0</td>\n",
       "      <td>0</td>\n",
       "    </tr>\n",
       "    <tr>\n",
       "      <th>9725</th>\n",
       "      <td>1</td>\n",
       "      <td>1</td>\n",
       "    </tr>\n",
       "    <tr>\n",
       "      <th>13259</th>\n",
       "      <td>0</td>\n",
       "      <td>0</td>\n",
       "    </tr>\n",
       "    <tr>\n",
       "      <th>11086</th>\n",
       "      <td>0</td>\n",
       "      <td>0</td>\n",
       "    </tr>\n",
       "    <tr>\n",
       "      <th>7617</th>\n",
       "      <td>0</td>\n",
       "      <td>0</td>\n",
       "    </tr>\n",
       "    <tr>\n",
       "      <th>3916</th>\n",
       "      <td>1</td>\n",
       "      <td>0</td>\n",
       "    </tr>\n",
       "    <tr>\n",
       "      <th>9537</th>\n",
       "      <td>1</td>\n",
       "      <td>1</td>\n",
       "    </tr>\n",
       "    <tr>\n",
       "      <th>1275</th>\n",
       "      <td>1</td>\n",
       "      <td>0</td>\n",
       "    </tr>\n",
       "    <tr>\n",
       "      <th>14008</th>\n",
       "      <td>0</td>\n",
       "      <td>0</td>\n",
       "    </tr>\n",
       "    <tr>\n",
       "      <th>2249</th>\n",
       "      <td>1</td>\n",
       "      <td>0</td>\n",
       "    </tr>\n",
       "    <tr>\n",
       "      <th>8518</th>\n",
       "      <td>0</td>\n",
       "      <td>0</td>\n",
       "    </tr>\n",
       "    <tr>\n",
       "      <th>11368</th>\n",
       "      <td>0</td>\n",
       "      <td>0</td>\n",
       "    </tr>\n",
       "    <tr>\n",
       "      <th>9550</th>\n",
       "      <td>0</td>\n",
       "      <td>0</td>\n",
       "    </tr>\n",
       "    <tr>\n",
       "      <th>11844</th>\n",
       "      <td>0</td>\n",
       "      <td>0</td>\n",
       "    </tr>\n",
       "    <tr>\n",
       "      <th>4269</th>\n",
       "      <td>0</td>\n",
       "      <td>0</td>\n",
       "    </tr>\n",
       "    <tr>\n",
       "      <th>8877</th>\n",
       "      <td>0</td>\n",
       "      <td>0</td>\n",
       "    </tr>\n",
       "    <tr>\n",
       "      <th>8228</th>\n",
       "      <td>0</td>\n",
       "      <td>0</td>\n",
       "    </tr>\n",
       "    <tr>\n",
       "      <th>3595</th>\n",
       "      <td>1</td>\n",
       "      <td>1</td>\n",
       "    </tr>\n",
       "  </tbody>\n",
       "</table>\n",
       "<p>2975 rows × 2 columns</p>\n",
       "</div>"
      ],
      "text/plain": [
       "       left_Company  predict\n",
       "5788              0        0\n",
       "5753              0        0\n",
       "3460              0        0\n",
       "4685              0        0\n",
       "10170             0        0\n",
       "6236              0        0\n",
       "6423              0        0\n",
       "4755              0        0\n",
       "1984              1        1\n",
       "3161              1        0\n",
       "6721              0        0\n",
       "12788             0        0\n",
       "9772              1        0\n",
       "10663             0        0\n",
       "1978              1        1\n",
       "12277             0        0\n",
       "8590              0        0\n",
       "6354              0        0\n",
       "620               1        1\n",
       "1091              0        0\n",
       "9980              0        0\n",
       "220               0        0\n",
       "10794             0        0\n",
       "7741              0        0\n",
       "10685             0        0\n",
       "11988             0        0\n",
       "561               1        0\n",
       "11363             0        0\n",
       "2894              1        0\n",
       "2569              1        1\n",
       "...             ...      ...\n",
       "10534             0        0\n",
       "3081              0        0\n",
       "1414              0        0\n",
       "10085             0        0\n",
       "3909              1        1\n",
       "2513              1        0\n",
       "3318              0        0\n",
       "8308              0        0\n",
       "11206             1        1\n",
       "13554             0        0\n",
       "1067              0        0\n",
       "5920              0        0\n",
       "6158              0        0\n",
       "9725              1        1\n",
       "13259             0        0\n",
       "11086             0        0\n",
       "7617              0        0\n",
       "3916              1        0\n",
       "9537              1        1\n",
       "1275              1        0\n",
       "14008             0        0\n",
       "2249              1        0\n",
       "8518              0        0\n",
       "11368             0        0\n",
       "9550              0        0\n",
       "11844             0        0\n",
       "4269              0        0\n",
       "8877              0        0\n",
       "8228              0        0\n",
       "3595              1        1\n",
       "\n",
       "[2975 rows x 2 columns]"
      ]
     },
     "execution_count": 37,
     "metadata": {},
     "output_type": "execute_result"
    }
   ],
   "source": [
    "#Verifica o dataframe\n",
    "y_test"
   ]
  },
  {
   "cell_type": "code",
   "execution_count": 38,
   "metadata": {
    "colab": {},
    "colab_type": "code",
    "id": "r2Vx1_bO2IPb",
    "outputId": "74109ff5-7fa1-4773-9bfe-4753dceede63"
   },
   "outputs": [
    {
     "data": {
      "text/html": [
       "<div>\n",
       "<style scoped>\n",
       "    .dataframe tbody tr th:only-of-type {\n",
       "        vertical-align: middle;\n",
       "    }\n",
       "\n",
       "    .dataframe tbody tr th {\n",
       "        vertical-align: top;\n",
       "    }\n",
       "\n",
       "    .dataframe thead th {\n",
       "        text-align: right;\n",
       "    }\n",
       "</style>\n",
       "<table border=\"1\" class=\"dataframe\">\n",
       "  <thead>\n",
       "    <tr style=\"text-align: right;\">\n",
       "      <th></th>\n",
       "      <th>left_Company</th>\n",
       "      <th>predict</th>\n",
       "    </tr>\n",
       "  </thead>\n",
       "  <tbody>\n",
       "    <tr>\n",
       "      <th>3161</th>\n",
       "      <td>1</td>\n",
       "      <td>0</td>\n",
       "    </tr>\n",
       "    <tr>\n",
       "      <th>9772</th>\n",
       "      <td>1</td>\n",
       "      <td>0</td>\n",
       "    </tr>\n",
       "    <tr>\n",
       "      <th>561</th>\n",
       "      <td>1</td>\n",
       "      <td>0</td>\n",
       "    </tr>\n",
       "    <tr>\n",
       "      <th>2894</th>\n",
       "      <td>1</td>\n",
       "      <td>0</td>\n",
       "    </tr>\n",
       "    <tr>\n",
       "      <th>3657</th>\n",
       "      <td>1</td>\n",
       "      <td>0</td>\n",
       "    </tr>\n",
       "    <tr>\n",
       "      <th>13695</th>\n",
       "      <td>1</td>\n",
       "      <td>0</td>\n",
       "    </tr>\n",
       "    <tr>\n",
       "      <th>2517</th>\n",
       "      <td>1</td>\n",
       "      <td>0</td>\n",
       "    </tr>\n",
       "    <tr>\n",
       "      <th>575</th>\n",
       "      <td>1</td>\n",
       "      <td>0</td>\n",
       "    </tr>\n",
       "    <tr>\n",
       "      <th>2898</th>\n",
       "      <td>1</td>\n",
       "      <td>0</td>\n",
       "    </tr>\n",
       "    <tr>\n",
       "      <th>3629</th>\n",
       "      <td>1</td>\n",
       "      <td>0</td>\n",
       "    </tr>\n",
       "    <tr>\n",
       "      <th>1124</th>\n",
       "      <td>0</td>\n",
       "      <td>1</td>\n",
       "    </tr>\n",
       "    <tr>\n",
       "      <th>3265</th>\n",
       "      <td>1</td>\n",
       "      <td>0</td>\n",
       "    </tr>\n",
       "    <tr>\n",
       "      <th>10592</th>\n",
       "      <td>1</td>\n",
       "      <td>0</td>\n",
       "    </tr>\n",
       "    <tr>\n",
       "      <th>4368</th>\n",
       "      <td>0</td>\n",
       "      <td>1</td>\n",
       "    </tr>\n",
       "    <tr>\n",
       "      <th>452</th>\n",
       "      <td>1</td>\n",
       "      <td>0</td>\n",
       "    </tr>\n",
       "    <tr>\n",
       "      <th>1595</th>\n",
       "      <td>1</td>\n",
       "      <td>0</td>\n",
       "    </tr>\n",
       "    <tr>\n",
       "      <th>950</th>\n",
       "      <td>1</td>\n",
       "      <td>0</td>\n",
       "    </tr>\n",
       "    <tr>\n",
       "      <th>4898</th>\n",
       "      <td>0</td>\n",
       "      <td>1</td>\n",
       "    </tr>\n",
       "    <tr>\n",
       "      <th>3974</th>\n",
       "      <td>1</td>\n",
       "      <td>0</td>\n",
       "    </tr>\n",
       "    <tr>\n",
       "      <th>2260</th>\n",
       "      <td>1</td>\n",
       "      <td>0</td>\n",
       "    </tr>\n",
       "    <tr>\n",
       "      <th>2607</th>\n",
       "      <td>1</td>\n",
       "      <td>0</td>\n",
       "    </tr>\n",
       "    <tr>\n",
       "      <th>1597</th>\n",
       "      <td>1</td>\n",
       "      <td>0</td>\n",
       "    </tr>\n",
       "    <tr>\n",
       "      <th>2252</th>\n",
       "      <td>1</td>\n",
       "      <td>0</td>\n",
       "    </tr>\n",
       "    <tr>\n",
       "      <th>3639</th>\n",
       "      <td>1</td>\n",
       "      <td>0</td>\n",
       "    </tr>\n",
       "    <tr>\n",
       "      <th>4249</th>\n",
       "      <td>1</td>\n",
       "      <td>0</td>\n",
       "    </tr>\n",
       "    <tr>\n",
       "      <th>2916</th>\n",
       "      <td>1</td>\n",
       "      <td>0</td>\n",
       "    </tr>\n",
       "    <tr>\n",
       "      <th>14865</th>\n",
       "      <td>0</td>\n",
       "      <td>1</td>\n",
       "    </tr>\n",
       "    <tr>\n",
       "      <th>3341</th>\n",
       "      <td>0</td>\n",
       "      <td>1</td>\n",
       "    </tr>\n",
       "    <tr>\n",
       "      <th>3784</th>\n",
       "      <td>0</td>\n",
       "      <td>1</td>\n",
       "    </tr>\n",
       "    <tr>\n",
       "      <th>5428</th>\n",
       "      <td>1</td>\n",
       "      <td>0</td>\n",
       "    </tr>\n",
       "    <tr>\n",
       "      <th>...</th>\n",
       "      <td>...</td>\n",
       "      <td>...</td>\n",
       "    </tr>\n",
       "    <tr>\n",
       "      <th>5071</th>\n",
       "      <td>0</td>\n",
       "      <td>1</td>\n",
       "    </tr>\n",
       "    <tr>\n",
       "      <th>3908</th>\n",
       "      <td>1</td>\n",
       "      <td>0</td>\n",
       "    </tr>\n",
       "    <tr>\n",
       "      <th>2590</th>\n",
       "      <td>1</td>\n",
       "      <td>0</td>\n",
       "    </tr>\n",
       "    <tr>\n",
       "      <th>644</th>\n",
       "      <td>1</td>\n",
       "      <td>0</td>\n",
       "    </tr>\n",
       "    <tr>\n",
       "      <th>13935</th>\n",
       "      <td>1</td>\n",
       "      <td>0</td>\n",
       "    </tr>\n",
       "    <tr>\n",
       "      <th>1869</th>\n",
       "      <td>1</td>\n",
       "      <td>0</td>\n",
       "    </tr>\n",
       "    <tr>\n",
       "      <th>1240</th>\n",
       "      <td>1</td>\n",
       "      <td>0</td>\n",
       "    </tr>\n",
       "    <tr>\n",
       "      <th>1578</th>\n",
       "      <td>1</td>\n",
       "      <td>0</td>\n",
       "    </tr>\n",
       "    <tr>\n",
       "      <th>637</th>\n",
       "      <td>1</td>\n",
       "      <td>0</td>\n",
       "    </tr>\n",
       "    <tr>\n",
       "      <th>3260</th>\n",
       "      <td>1</td>\n",
       "      <td>0</td>\n",
       "    </tr>\n",
       "    <tr>\n",
       "      <th>4480</th>\n",
       "      <td>0</td>\n",
       "      <td>1</td>\n",
       "    </tr>\n",
       "    <tr>\n",
       "      <th>3125</th>\n",
       "      <td>0</td>\n",
       "      <td>1</td>\n",
       "    </tr>\n",
       "    <tr>\n",
       "      <th>581</th>\n",
       "      <td>1</td>\n",
       "      <td>0</td>\n",
       "    </tr>\n",
       "    <tr>\n",
       "      <th>192</th>\n",
       "      <td>0</td>\n",
       "      <td>1</td>\n",
       "    </tr>\n",
       "    <tr>\n",
       "      <th>3485</th>\n",
       "      <td>0</td>\n",
       "      <td>1</td>\n",
       "    </tr>\n",
       "    <tr>\n",
       "      <th>2584</th>\n",
       "      <td>1</td>\n",
       "      <td>0</td>\n",
       "    </tr>\n",
       "    <tr>\n",
       "      <th>4304</th>\n",
       "      <td>0</td>\n",
       "      <td>1</td>\n",
       "    </tr>\n",
       "    <tr>\n",
       "      <th>12348</th>\n",
       "      <td>1</td>\n",
       "      <td>0</td>\n",
       "    </tr>\n",
       "    <tr>\n",
       "      <th>1085</th>\n",
       "      <td>0</td>\n",
       "      <td>1</td>\n",
       "    </tr>\n",
       "    <tr>\n",
       "      <th>11412</th>\n",
       "      <td>1</td>\n",
       "      <td>0</td>\n",
       "    </tr>\n",
       "    <tr>\n",
       "      <th>4139</th>\n",
       "      <td>0</td>\n",
       "      <td>1</td>\n",
       "    </tr>\n",
       "    <tr>\n",
       "      <th>3857</th>\n",
       "      <td>1</td>\n",
       "      <td>0</td>\n",
       "    </tr>\n",
       "    <tr>\n",
       "      <th>2137</th>\n",
       "      <td>0</td>\n",
       "      <td>1</td>\n",
       "    </tr>\n",
       "    <tr>\n",
       "      <th>3008</th>\n",
       "      <td>0</td>\n",
       "      <td>1</td>\n",
       "    </tr>\n",
       "    <tr>\n",
       "      <th>3601</th>\n",
       "      <td>1</td>\n",
       "      <td>0</td>\n",
       "    </tr>\n",
       "    <tr>\n",
       "      <th>1624</th>\n",
       "      <td>1</td>\n",
       "      <td>0</td>\n",
       "    </tr>\n",
       "    <tr>\n",
       "      <th>2513</th>\n",
       "      <td>1</td>\n",
       "      <td>0</td>\n",
       "    </tr>\n",
       "    <tr>\n",
       "      <th>3916</th>\n",
       "      <td>1</td>\n",
       "      <td>0</td>\n",
       "    </tr>\n",
       "    <tr>\n",
       "      <th>1275</th>\n",
       "      <td>1</td>\n",
       "      <td>0</td>\n",
       "    </tr>\n",
       "    <tr>\n",
       "      <th>2249</th>\n",
       "      <td>1</td>\n",
       "      <td>0</td>\n",
       "    </tr>\n",
       "  </tbody>\n",
       "</table>\n",
       "<p>481 rows × 2 columns</p>\n",
       "</div>"
      ],
      "text/plain": [
       "       left_Company  predict\n",
       "3161              1        0\n",
       "9772              1        0\n",
       "561               1        0\n",
       "2894              1        0\n",
       "3657              1        0\n",
       "13695             1        0\n",
       "2517              1        0\n",
       "575               1        0\n",
       "2898              1        0\n",
       "3629              1        0\n",
       "1124              0        1\n",
       "3265              1        0\n",
       "10592             1        0\n",
       "4368              0        1\n",
       "452               1        0\n",
       "1595              1        0\n",
       "950               1        0\n",
       "4898              0        1\n",
       "3974              1        0\n",
       "2260              1        0\n",
       "2607              1        0\n",
       "1597              1        0\n",
       "2252              1        0\n",
       "3639              1        0\n",
       "4249              1        0\n",
       "2916              1        0\n",
       "14865             0        1\n",
       "3341              0        1\n",
       "3784              0        1\n",
       "5428              1        0\n",
       "...             ...      ...\n",
       "5071              0        1\n",
       "3908              1        0\n",
       "2590              1        0\n",
       "644               1        0\n",
       "13935             1        0\n",
       "1869              1        0\n",
       "1240              1        0\n",
       "1578              1        0\n",
       "637               1        0\n",
       "3260              1        0\n",
       "4480              0        1\n",
       "3125              0        1\n",
       "581               1        0\n",
       "192               0        1\n",
       "3485              0        1\n",
       "2584              1        0\n",
       "4304              0        1\n",
       "12348             1        0\n",
       "1085              0        1\n",
       "11412             1        0\n",
       "4139              0        1\n",
       "3857              1        0\n",
       "2137              0        1\n",
       "3008              0        1\n",
       "3601              1        0\n",
       "1624              1        0\n",
       "2513              1        0\n",
       "3916              1        0\n",
       "1275              1        0\n",
       "2249              1        0\n",
       "\n",
       "[481 rows x 2 columns]"
      ]
     },
     "execution_count": 38,
     "metadata": {},
     "output_type": "execute_result"
    }
   ],
   "source": [
    "#Verifica onde o modelo errou, nesse casso erramos 477 de 2975 casos.\n",
    "y_test[y_test['left_Company'] != y_test['predict']]"
   ]
  },
  {
   "cell_type": "markdown",
   "metadata": {
    "colab_type": "text",
    "id": "wKYu9hY62IPg"
   },
   "source": [
    "Parece que o modelo gerou bons resultados, mas vamos usar a função score para verificar o resultado com precisão."
   ]
  },
  {
   "cell_type": "code",
   "execution_count": 39,
   "metadata": {
    "colab": {},
    "colab_type": "code",
    "id": "T4D8ix6X2IPg",
    "outputId": "402a0fcc-4f13-4a83-b8d8-c1351395f300"
   },
   "outputs": [
    {
     "data": {
      "text/plain": [
       "0.8383193277310924"
      ]
     },
     "execution_count": 39,
     "metadata": {},
     "output_type": "execute_result"
    }
   ],
   "source": [
    "#SCORE\n",
    "model.score(x_test, y_test.drop(columns = ['predict']))"
   ]
  },
  {
   "cell_type": "markdown",
   "metadata": {
    "colab_type": "text",
    "id": "w5h4Bf2e2IPk"
   },
   "source": [
    "83% de acerto é um excelente resultado, considero que ele foi um sucesso."
   ]
  },
  {
   "cell_type": "markdown",
   "metadata": {
    "colab_type": "text",
    "id": "VUd8nXBE2IPl"
   },
   "source": [
    "Por fim vamos verificar a matriz de confusão para uma visualização melhor do resultado"
   ]
  },
  {
   "cell_type": "code",
   "execution_count": 40,
   "metadata": {
    "colab": {},
    "colab_type": "code",
    "id": "lRj01LiC2IPm",
    "outputId": "3b8ca2b0-81ad-4a54-8b3b-5a85fad3ceef"
   },
   "outputs": [
    {
     "data": {
      "text/plain": [
       "array([[2131,  164],\n",
       "       [ 317,  363]], dtype=int64)"
      ]
     },
     "execution_count": 40,
     "metadata": {},
     "output_type": "execute_result"
    }
   ],
   "source": [
    "#Matriz de confusão\n",
    "confusion_matrix(y_test.left_Company, y_test.predict)"
   ]
  },
  {
   "cell_type": "markdown",
   "metadata": {
    "colab_type": "text",
    "id": "Y1XTIcNM2IPr"
   },
   "source": [
    "Positivos verdadeiros: 2138 \\\n",
    "Falsos positivos: 157 \\\n",
    "Negativos verdadeiros: 360 \\\n",
    "Falsos negativos: 320 \\\n"
   ]
  },
  {
   "cell_type": "markdown",
   "metadata": {
    "colab_type": "text",
    "id": "CIkoIJGT2IPs"
   },
   "source": [
    "### Previsão de desempenho do funcionário"
   ]
  },
  {
   "cell_type": "markdown",
   "metadata": {
    "colab_type": "text",
    "id": "xB_CIzeV2IPt"
   },
   "source": [
    "Aqui irei seguir os mesmo passos da modelo anterior, mudando somente de `Regressão Logística` para `Regressão Linear`"
   ]
  },
  {
   "cell_type": "code",
   "execution_count": 41,
   "metadata": {
    "colab": {
     "base_uri": "https://localhost:8080/",
     "height": 197
    },
    "colab_type": "code",
    "id": "Fyao-e9-2IPu",
    "outputId": "10d7c5f2-fc68-4a2b-c5a4-76f1fe52959c"
   },
   "outputs": [],
   "source": [
    "#Separa oque são as features e o target\n",
    "features = dados.drop(columns=['last_evaluation', 'Women_Leave', 'Men_Leave']).select_dtypes(exclude='object')\n",
    "target = dados.last_evaluation"
   ]
  },
  {
   "cell_type": "code",
   "execution_count": 42,
   "metadata": {
    "colab": {
     "base_uri": "https://localhost:8080/",
     "height": 180
    },
    "colab_type": "code",
    "id": "-KA3aEBV2IPw",
    "outputId": "9310f88c-cae4-4ce7-f971-014292d276b2"
   },
   "outputs": [],
   "source": [
    "#Separa 80% treino e 20% teste\n",
    "x_train, x_test, y_train, y_test = train_test_split(features, target, test_size=0.2, random_state=0)"
   ]
  },
  {
   "cell_type": "code",
   "execution_count": 43,
   "metadata": {
    "colab": {},
    "colab_type": "code",
    "id": "IuEzBiTQ2IP2"
   },
   "outputs": [],
   "source": [
    "#Importa o medelo de Regressão Linear que iremos utilizar\n",
    "model = LinearRegression()"
   ]
  },
  {
   "cell_type": "code",
   "execution_count": 44,
   "metadata": {
    "colab": {},
    "colab_type": "code",
    "id": "AXFHTiet2IP7"
   },
   "outputs": [
    {
     "data": {
      "text/plain": [
       "LinearRegression()"
      ]
     },
     "execution_count": 44,
     "metadata": {},
     "output_type": "execute_result"
    }
   ],
   "source": [
    "#Treina o modelo\n",
    "model.fit(x_train, y_train)"
   ]
  },
  {
   "cell_type": "code",
   "execution_count": 45,
   "metadata": {
    "colab": {},
    "colab_type": "code",
    "id": "M_VXCIqD2IP-"
   },
   "outputs": [],
   "source": [
    "#Salvamos o resultado do predict\n",
    "predict = model.predict(x_test)"
   ]
  },
  {
   "cell_type": "code",
   "execution_count": 46,
   "metadata": {
    "colab": {},
    "colab_type": "code",
    "id": "EDhzMUst2IQC"
   },
   "outputs": [],
   "source": [
    "#Transforma o y_test que são os resultados verdadeiros em um dataframe para poder ser manipulado\n",
    "y_test = y_test.to_frame()"
   ]
  },
  {
   "cell_type": "code",
   "execution_count": 47,
   "metadata": {
    "colab": {},
    "colab_type": "code",
    "id": "LGX8yHY92IQI"
   },
   "outputs": [],
   "source": [
    "#Cria uma nova coluna no dataframe com o predict\n",
    "y_test['predict'] = predict"
   ]
  },
  {
   "cell_type": "code",
   "execution_count": 48,
   "metadata": {
    "colab": {},
    "colab_type": "code",
    "id": "pH5ruZpC2IQM"
   },
   "outputs": [
    {
     "data": {
      "text/html": [
       "<div>\n",
       "<style scoped>\n",
       "    .dataframe tbody tr th:only-of-type {\n",
       "        vertical-align: middle;\n",
       "    }\n",
       "\n",
       "    .dataframe tbody tr th {\n",
       "        vertical-align: top;\n",
       "    }\n",
       "\n",
       "    .dataframe thead th {\n",
       "        text-align: right;\n",
       "    }\n",
       "</style>\n",
       "<table border=\"1\" class=\"dataframe\">\n",
       "  <thead>\n",
       "    <tr style=\"text-align: right;\">\n",
       "      <th></th>\n",
       "      <th>last_evaluation</th>\n",
       "      <th>predict</th>\n",
       "    </tr>\n",
       "  </thead>\n",
       "  <tbody>\n",
       "    <tr>\n",
       "      <th>5788</th>\n",
       "      <td>0.64</td>\n",
       "      <td>0.628162</td>\n",
       "    </tr>\n",
       "    <tr>\n",
       "      <th>5753</th>\n",
       "      <td>0.64</td>\n",
       "      <td>0.628269</td>\n",
       "    </tr>\n",
       "    <tr>\n",
       "      <th>3460</th>\n",
       "      <td>0.55</td>\n",
       "      <td>0.508807</td>\n",
       "    </tr>\n",
       "    <tr>\n",
       "      <th>4685</th>\n",
       "      <td>0.59</td>\n",
       "      <td>0.505269</td>\n",
       "    </tr>\n",
       "    <tr>\n",
       "      <th>10170</th>\n",
       "      <td>0.83</td>\n",
       "      <td>0.843366</td>\n",
       "    </tr>\n",
       "    <tr>\n",
       "      <th>6236</th>\n",
       "      <td>0.66</td>\n",
       "      <td>0.682965</td>\n",
       "    </tr>\n",
       "    <tr>\n",
       "      <th>6423</th>\n",
       "      <td>0.67</td>\n",
       "      <td>0.677108</td>\n",
       "    </tr>\n",
       "    <tr>\n",
       "      <th>4755</th>\n",
       "      <td>0.60</td>\n",
       "      <td>0.661309</td>\n",
       "    </tr>\n",
       "    <tr>\n",
       "      <th>1984</th>\n",
       "      <td>0.51</td>\n",
       "      <td>0.518727</td>\n",
       "    </tr>\n",
       "    <tr>\n",
       "      <th>3161</th>\n",
       "      <td>0.54</td>\n",
       "      <td>0.536483</td>\n",
       "    </tr>\n",
       "    <tr>\n",
       "      <th>6721</th>\n",
       "      <td>0.68</td>\n",
       "      <td>0.677872</td>\n",
       "    </tr>\n",
       "    <tr>\n",
       "      <th>12788</th>\n",
       "      <td>0.92</td>\n",
       "      <td>0.846111</td>\n",
       "    </tr>\n",
       "    <tr>\n",
       "      <th>9772</th>\n",
       "      <td>0.82</td>\n",
       "      <td>0.883451</td>\n",
       "    </tr>\n",
       "    <tr>\n",
       "      <th>10663</th>\n",
       "      <td>0.85</td>\n",
       "      <td>0.839197</td>\n",
       "    </tr>\n",
       "    <tr>\n",
       "      <th>1978</th>\n",
       "      <td>0.51</td>\n",
       "      <td>0.518296</td>\n",
       "    </tr>\n",
       "    <tr>\n",
       "      <th>12277</th>\n",
       "      <td>0.90</td>\n",
       "      <td>0.844936</td>\n",
       "    </tr>\n",
       "    <tr>\n",
       "      <th>8590</th>\n",
       "      <td>0.77</td>\n",
       "      <td>0.846530</td>\n",
       "    </tr>\n",
       "    <tr>\n",
       "      <th>6354</th>\n",
       "      <td>0.67</td>\n",
       "      <td>0.669310</td>\n",
       "    </tr>\n",
       "    <tr>\n",
       "      <th>620</th>\n",
       "      <td>0.46</td>\n",
       "      <td>0.509706</td>\n",
       "    </tr>\n",
       "    <tr>\n",
       "      <th>1091</th>\n",
       "      <td>0.48</td>\n",
       "      <td>0.506599</td>\n",
       "    </tr>\n",
       "    <tr>\n",
       "      <th>9980</th>\n",
       "      <td>0.82</td>\n",
       "      <td>0.835886</td>\n",
       "    </tr>\n",
       "    <tr>\n",
       "      <th>220</th>\n",
       "      <td>0.40</td>\n",
       "      <td>0.496849</td>\n",
       "    </tr>\n",
       "    <tr>\n",
       "      <th>10794</th>\n",
       "      <td>0.85</td>\n",
       "      <td>0.834193</td>\n",
       "    </tr>\n",
       "    <tr>\n",
       "      <th>7741</th>\n",
       "      <td>0.73</td>\n",
       "      <td>0.838717</td>\n",
       "    </tr>\n",
       "    <tr>\n",
       "      <th>10685</th>\n",
       "      <td>0.85</td>\n",
       "      <td>0.845370</td>\n",
       "    </tr>\n",
       "    <tr>\n",
       "      <th>11988</th>\n",
       "      <td>0.89</td>\n",
       "      <td>0.843962</td>\n",
       "    </tr>\n",
       "    <tr>\n",
       "      <th>561</th>\n",
       "      <td>0.46</td>\n",
       "      <td>0.515402</td>\n",
       "    </tr>\n",
       "    <tr>\n",
       "      <th>11363</th>\n",
       "      <td>0.87</td>\n",
       "      <td>0.846024</td>\n",
       "    </tr>\n",
       "    <tr>\n",
       "      <th>2894</th>\n",
       "      <td>0.53</td>\n",
       "      <td>0.523004</td>\n",
       "    </tr>\n",
       "    <tr>\n",
       "      <th>2569</th>\n",
       "      <td>0.52</td>\n",
       "      <td>0.516072</td>\n",
       "    </tr>\n",
       "    <tr>\n",
       "      <th>...</th>\n",
       "      <td>...</td>\n",
       "      <td>...</td>\n",
       "    </tr>\n",
       "    <tr>\n",
       "      <th>10534</th>\n",
       "      <td>0.84</td>\n",
       "      <td>0.844593</td>\n",
       "    </tr>\n",
       "    <tr>\n",
       "      <th>3081</th>\n",
       "      <td>0.54</td>\n",
       "      <td>0.509692</td>\n",
       "    </tr>\n",
       "    <tr>\n",
       "      <th>1414</th>\n",
       "      <td>0.49</td>\n",
       "      <td>0.509214</td>\n",
       "    </tr>\n",
       "    <tr>\n",
       "      <th>10085</th>\n",
       "      <td>0.83</td>\n",
       "      <td>0.844308</td>\n",
       "    </tr>\n",
       "    <tr>\n",
       "      <th>3909</th>\n",
       "      <td>0.56</td>\n",
       "      <td>0.517024</td>\n",
       "    </tr>\n",
       "    <tr>\n",
       "      <th>2513</th>\n",
       "      <td>0.52</td>\n",
       "      <td>0.513710</td>\n",
       "    </tr>\n",
       "    <tr>\n",
       "      <th>3318</th>\n",
       "      <td>0.55</td>\n",
       "      <td>0.506343</td>\n",
       "    </tr>\n",
       "    <tr>\n",
       "      <th>8308</th>\n",
       "      <td>0.75</td>\n",
       "      <td>0.832928</td>\n",
       "    </tr>\n",
       "    <tr>\n",
       "      <th>11206</th>\n",
       "      <td>0.87</td>\n",
       "      <td>0.881506</td>\n",
       "    </tr>\n",
       "    <tr>\n",
       "      <th>13554</th>\n",
       "      <td>0.95</td>\n",
       "      <td>0.844013</td>\n",
       "    </tr>\n",
       "    <tr>\n",
       "      <th>1067</th>\n",
       "      <td>0.48</td>\n",
       "      <td>0.509097</td>\n",
       "    </tr>\n",
       "    <tr>\n",
       "      <th>5920</th>\n",
       "      <td>0.65</td>\n",
       "      <td>0.630029</td>\n",
       "    </tr>\n",
       "    <tr>\n",
       "      <th>6158</th>\n",
       "      <td>0.66</td>\n",
       "      <td>0.678938</td>\n",
       "    </tr>\n",
       "    <tr>\n",
       "      <th>9725</th>\n",
       "      <td>0.81</td>\n",
       "      <td>0.881900</td>\n",
       "    </tr>\n",
       "    <tr>\n",
       "      <th>13259</th>\n",
       "      <td>0.94</td>\n",
       "      <td>0.838455</td>\n",
       "    </tr>\n",
       "    <tr>\n",
       "      <th>11086</th>\n",
       "      <td>0.86</td>\n",
       "      <td>0.843257</td>\n",
       "    </tr>\n",
       "    <tr>\n",
       "      <th>7617</th>\n",
       "      <td>0.73</td>\n",
       "      <td>0.842801</td>\n",
       "    </tr>\n",
       "    <tr>\n",
       "      <th>3916</th>\n",
       "      <td>0.56</td>\n",
       "      <td>0.518774</td>\n",
       "    </tr>\n",
       "    <tr>\n",
       "      <th>9537</th>\n",
       "      <td>0.81</td>\n",
       "      <td>0.877475</td>\n",
       "    </tr>\n",
       "    <tr>\n",
       "      <th>1275</th>\n",
       "      <td>0.49</td>\n",
       "      <td>0.505216</td>\n",
       "    </tr>\n",
       "    <tr>\n",
       "      <th>14008</th>\n",
       "      <td>0.97</td>\n",
       "      <td>0.868142</td>\n",
       "    </tr>\n",
       "    <tr>\n",
       "      <th>2249</th>\n",
       "      <td>0.51</td>\n",
       "      <td>0.506928</td>\n",
       "    </tr>\n",
       "    <tr>\n",
       "      <th>8518</th>\n",
       "      <td>0.76</td>\n",
       "      <td>0.847810</td>\n",
       "    </tr>\n",
       "    <tr>\n",
       "      <th>11368</th>\n",
       "      <td>0.87</td>\n",
       "      <td>0.840974</td>\n",
       "    </tr>\n",
       "    <tr>\n",
       "      <th>9550</th>\n",
       "      <td>0.81</td>\n",
       "      <td>0.845104</td>\n",
       "    </tr>\n",
       "    <tr>\n",
       "      <th>11844</th>\n",
       "      <td>0.89</td>\n",
       "      <td>0.842334</td>\n",
       "    </tr>\n",
       "    <tr>\n",
       "      <th>4269</th>\n",
       "      <td>0.58</td>\n",
       "      <td>0.505024</td>\n",
       "    </tr>\n",
       "    <tr>\n",
       "      <th>8877</th>\n",
       "      <td>0.78</td>\n",
       "      <td>0.840247</td>\n",
       "    </tr>\n",
       "    <tr>\n",
       "      <th>8228</th>\n",
       "      <td>0.75</td>\n",
       "      <td>0.844771</td>\n",
       "    </tr>\n",
       "    <tr>\n",
       "      <th>3595</th>\n",
       "      <td>0.55</td>\n",
       "      <td>0.509826</td>\n",
       "    </tr>\n",
       "  </tbody>\n",
       "</table>\n",
       "<p>2975 rows × 2 columns</p>\n",
       "</div>"
      ],
      "text/plain": [
       "       last_evaluation   predict\n",
       "5788              0.64  0.628162\n",
       "5753              0.64  0.628269\n",
       "3460              0.55  0.508807\n",
       "4685              0.59  0.505269\n",
       "10170             0.83  0.843366\n",
       "6236              0.66  0.682965\n",
       "6423              0.67  0.677108\n",
       "4755              0.60  0.661309\n",
       "1984              0.51  0.518727\n",
       "3161              0.54  0.536483\n",
       "6721              0.68  0.677872\n",
       "12788             0.92  0.846111\n",
       "9772              0.82  0.883451\n",
       "10663             0.85  0.839197\n",
       "1978              0.51  0.518296\n",
       "12277             0.90  0.844936\n",
       "8590              0.77  0.846530\n",
       "6354              0.67  0.669310\n",
       "620               0.46  0.509706\n",
       "1091              0.48  0.506599\n",
       "9980              0.82  0.835886\n",
       "220               0.40  0.496849\n",
       "10794             0.85  0.834193\n",
       "7741              0.73  0.838717\n",
       "10685             0.85  0.845370\n",
       "11988             0.89  0.843962\n",
       "561               0.46  0.515402\n",
       "11363             0.87  0.846024\n",
       "2894              0.53  0.523004\n",
       "2569              0.52  0.516072\n",
       "...                ...       ...\n",
       "10534             0.84  0.844593\n",
       "3081              0.54  0.509692\n",
       "1414              0.49  0.509214\n",
       "10085             0.83  0.844308\n",
       "3909              0.56  0.517024\n",
       "2513              0.52  0.513710\n",
       "3318              0.55  0.506343\n",
       "8308              0.75  0.832928\n",
       "11206             0.87  0.881506\n",
       "13554             0.95  0.844013\n",
       "1067              0.48  0.509097\n",
       "5920              0.65  0.630029\n",
       "6158              0.66  0.678938\n",
       "9725              0.81  0.881900\n",
       "13259             0.94  0.838455\n",
       "11086             0.86  0.843257\n",
       "7617              0.73  0.842801\n",
       "3916              0.56  0.518774\n",
       "9537              0.81  0.877475\n",
       "1275              0.49  0.505216\n",
       "14008             0.97  0.868142\n",
       "2249              0.51  0.506928\n",
       "8518              0.76  0.847810\n",
       "11368             0.87  0.840974\n",
       "9550              0.81  0.845104\n",
       "11844             0.89  0.842334\n",
       "4269              0.58  0.505024\n",
       "8877              0.78  0.840247\n",
       "8228              0.75  0.844771\n",
       "3595              0.55  0.509826\n",
       "\n",
       "[2975 rows x 2 columns]"
      ]
     },
     "execution_count": 48,
     "metadata": {},
     "output_type": "execute_result"
    }
   ],
   "source": [
    "#Verifica o dataframe\n",
    "y_test"
   ]
  },
  {
   "cell_type": "markdown",
   "metadata": {
    "colab_type": "text",
    "id": "dT8ft7aM2IQP"
   },
   "source": [
    "A diferença desse modelo de Regressão Linear está na forma de avaliarmos o seu desempenho, utilizarei o método Root Mean Squared Error"
   ]
  },
  {
   "cell_type": "code",
   "execution_count": 49,
   "metadata": {
    "colab": {},
    "colab_type": "code",
    "id": "8hJ0R4wF2IQS"
   },
   "outputs": [
    {
     "data": {
      "text/plain": [
       "0.06300464201985528"
      ]
     },
     "execution_count": 49,
     "metadata": {},
     "output_type": "execute_result"
    }
   ],
   "source": [
    "sqrt(mean_squared_error(y_test.last_evaluation, y_test.predict))"
   ]
  },
  {
   "cell_type": "markdown",
   "metadata": {
    "colab_type": "text",
    "id": "UNrYSqQF2IQX"
   },
   "source": [
    "Chegamos a um erro médio de apenas 6% oque é um grande sucesso para o modelo!"
   ]
  },
  {
   "cell_type": "markdown",
   "metadata": {
    "colab_type": "text",
    "id": "Zd_jmVf_2IQY"
   },
   "source": [
    "Com isso finalizamos a análise de dados desse dataset, considero que conseguimos gerar muito valor com essas análises."
   ]
  },
  {
   "cell_type": "markdown",
   "metadata": {
    "colab_type": "text",
    "id": "PIOtr94g2IQZ"
   },
   "source": [
    "Fico feliz por conseguir finalizar esse grande projeto e espero que gostem dos resultados!"
   ]
  }
 ],
 "metadata": {
  "colab": {
   "collapsed_sections": [],
   "name": "Análise RH.ipynb",
   "provenance": []
  },
  "kernelspec": {
   "display_name": "Python 3",
   "language": "python",
   "name": "python3"
  },
  "language_info": {
   "codemirror_mode": {
    "name": "ipython",
    "version": 3
   },
   "file_extension": ".py",
   "mimetype": "text/x-python",
   "name": "python",
   "nbconvert_exporter": "python",
   "pygments_lexer": "ipython3",
   "version": "3.7.9"
  }
 },
 "nbformat": 4,
 "nbformat_minor": 1
}
